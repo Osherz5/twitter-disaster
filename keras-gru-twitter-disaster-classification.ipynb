{
 "cells": [
  {
   "cell_type": "markdown",
   "id": "3495abfd",
   "metadata": {
    "papermill": {
     "duration": 0.008321,
     "end_time": "2025-02-04T20:02:56.483624",
     "exception": false,
     "start_time": "2025-02-04T20:02:56.475303",
     "status": "completed"
    },
    "tags": []
   },
   "source": [
    "# Background\n",
    "\n",
    "This competition involves building a model to classify tweets as describing real disasters or not. The dataset contains 10,000 hand-labeled tweets, with each tweet labeled as disaster-related (1) or not (0). The objective is to predict the labels for unseen tweets. Model performance will be evaluated using the F1 score, which balances precision and recall.\n",
    "\n",
    "Columns:\n",
    "\n",
    "id - a unique identifier for each tweet\n",
    "\n",
    "text - the text of the tweet\n",
    "\n",
    "location - the location the tweet was sent from (may be blank)\n",
    "\n",
    "keyword - a particular keyword from the tweet (may be blank)\n",
    "\n",
    "target - in train.csv only, this denotes whether a tweet is about a real disaster (1) or not (0)\n"
   ]
  },
  {
   "cell_type": "code",
   "execution_count": 1,
   "id": "328d05bf",
   "metadata": {
    "_cell_guid": "b1076dfc-b9ad-4769-8c92-a6c4dae69d19",
    "_uuid": "8f2839f25d086af736a60e9eeb907d3b93b6e0e5",
    "execution": {
     "iopub.execute_input": "2025-02-04T20:02:56.499681Z",
     "iopub.status.busy": "2025-02-04T20:02:56.499441Z",
     "iopub.status.idle": "2025-02-04T20:03:08.484666Z",
     "shell.execute_reply": "2025-02-04T20:03:08.484015Z"
    },
    "papermill": {
     "duration": 11.99484,
     "end_time": "2025-02-04T20:03:08.486408",
     "exception": false,
     "start_time": "2025-02-04T20:02:56.491568",
     "status": "completed"
    },
    "tags": []
   },
   "outputs": [],
   "source": [
    "import numpy as np\n",
    "import pandas as pd\n",
    "import keras\n"
   ]
  },
  {
   "cell_type": "markdown",
   "id": "2995fc90",
   "metadata": {
    "papermill": {
     "duration": 0.006237,
     "end_time": "2025-02-04T20:03:08.499844",
     "exception": false,
     "start_time": "2025-02-04T20:03:08.493607",
     "status": "completed"
    },
    "tags": []
   },
   "source": [
    "# Data loading & EDA"
   ]
  },
  {
   "cell_type": "code",
   "execution_count": 2,
   "id": "b7d89747",
   "metadata": {
    "execution": {
     "iopub.execute_input": "2025-02-04T20:03:08.513404Z",
     "iopub.status.busy": "2025-02-04T20:03:08.512991Z",
     "iopub.status.idle": "2025-02-04T20:03:08.558911Z",
     "shell.execute_reply": "2025-02-04T20:03:08.558156Z"
    },
    "papermill": {
     "duration": 0.053975,
     "end_time": "2025-02-04T20:03:08.560125",
     "exception": false,
     "start_time": "2025-02-04T20:03:08.506150",
     "status": "completed"
    },
    "tags": []
   },
   "outputs": [
    {
     "data": {
      "text/plain": [
       "(7613, 5)"
      ]
     },
     "execution_count": 2,
     "metadata": {},
     "output_type": "execute_result"
    }
   ],
   "source": [
    "train_df = pd.read_csv(\"/kaggle/input/nlp-getting-started/train.csv\")\n",
    "train_df.shape"
   ]
  },
  {
   "cell_type": "markdown",
   "id": "208447dd",
   "metadata": {
    "papermill": {
     "duration": 0.006337,
     "end_time": "2025-02-04T20:03:08.573052",
     "exception": false,
     "start_time": "2025-02-04T20:03:08.566715",
     "status": "completed"
    },
    "tags": []
   },
   "source": [
    "We have 7613 columns in the training set, and 5 columns"
   ]
  },
  {
   "cell_type": "code",
   "execution_count": 3,
   "id": "0afc7d9c",
   "metadata": {
    "execution": {
     "iopub.execute_input": "2025-02-04T20:03:08.586770Z",
     "iopub.status.busy": "2025-02-04T20:03:08.586523Z",
     "iopub.status.idle": "2025-02-04T20:03:08.603236Z",
     "shell.execute_reply": "2025-02-04T20:03:08.602548Z"
    },
    "papermill": {
     "duration": 0.024907,
     "end_time": "2025-02-04T20:03:08.604429",
     "exception": false,
     "start_time": "2025-02-04T20:03:08.579522",
     "status": "completed"
    },
    "tags": []
   },
   "outputs": [
    {
     "data": {
      "text/html": [
       "<div>\n",
       "<style scoped>\n",
       "    .dataframe tbody tr th:only-of-type {\n",
       "        vertical-align: middle;\n",
       "    }\n",
       "\n",
       "    .dataframe tbody tr th {\n",
       "        vertical-align: top;\n",
       "    }\n",
       "\n",
       "    .dataframe thead th {\n",
       "        text-align: right;\n",
       "    }\n",
       "</style>\n",
       "<table border=\"1\" class=\"dataframe\">\n",
       "  <thead>\n",
       "    <tr style=\"text-align: right;\">\n",
       "      <th></th>\n",
       "      <th>id</th>\n",
       "      <th>keyword</th>\n",
       "      <th>location</th>\n",
       "      <th>text</th>\n",
       "      <th>target</th>\n",
       "    </tr>\n",
       "  </thead>\n",
       "  <tbody>\n",
       "    <tr>\n",
       "      <th>0</th>\n",
       "      <td>1</td>\n",
       "      <td>NaN</td>\n",
       "      <td>NaN</td>\n",
       "      <td>Our Deeds are the Reason of this #earthquake M...</td>\n",
       "      <td>1</td>\n",
       "    </tr>\n",
       "    <tr>\n",
       "      <th>1</th>\n",
       "      <td>4</td>\n",
       "      <td>NaN</td>\n",
       "      <td>NaN</td>\n",
       "      <td>Forest fire near La Ronge Sask. Canada</td>\n",
       "      <td>1</td>\n",
       "    </tr>\n",
       "    <tr>\n",
       "      <th>2</th>\n",
       "      <td>5</td>\n",
       "      <td>NaN</td>\n",
       "      <td>NaN</td>\n",
       "      <td>All residents asked to 'shelter in place' are ...</td>\n",
       "      <td>1</td>\n",
       "    </tr>\n",
       "    <tr>\n",
       "      <th>3</th>\n",
       "      <td>6</td>\n",
       "      <td>NaN</td>\n",
       "      <td>NaN</td>\n",
       "      <td>13,000 people receive #wildfires evacuation or...</td>\n",
       "      <td>1</td>\n",
       "    </tr>\n",
       "    <tr>\n",
       "      <th>4</th>\n",
       "      <td>7</td>\n",
       "      <td>NaN</td>\n",
       "      <td>NaN</td>\n",
       "      <td>Just got sent this photo from Ruby #Alaska as ...</td>\n",
       "      <td>1</td>\n",
       "    </tr>\n",
       "  </tbody>\n",
       "</table>\n",
       "</div>"
      ],
      "text/plain": [
       "   id keyword location                                               text  \\\n",
       "0   1     NaN      NaN  Our Deeds are the Reason of this #earthquake M...   \n",
       "1   4     NaN      NaN             Forest fire near La Ronge Sask. Canada   \n",
       "2   5     NaN      NaN  All residents asked to 'shelter in place' are ...   \n",
       "3   6     NaN      NaN  13,000 people receive #wildfires evacuation or...   \n",
       "4   7     NaN      NaN  Just got sent this photo from Ruby #Alaska as ...   \n",
       "\n",
       "   target  \n",
       "0       1  \n",
       "1       1  \n",
       "2       1  \n",
       "3       1  \n",
       "4       1  "
      ]
     },
     "execution_count": 3,
     "metadata": {},
     "output_type": "execute_result"
    }
   ],
   "source": [
    "train_df.head()"
   ]
  },
  {
   "cell_type": "code",
   "execution_count": 4,
   "id": "aaeef165",
   "metadata": {
    "execution": {
     "iopub.execute_input": "2025-02-04T20:03:08.618787Z",
     "iopub.status.busy": "2025-02-04T20:03:08.618555Z",
     "iopub.status.idle": "2025-02-04T20:03:08.623764Z",
     "shell.execute_reply": "2025-02-04T20:03:08.623086Z"
    },
    "papermill": {
     "duration": 0.01339,
     "end_time": "2025-02-04T20:03:08.624875",
     "exception": false,
     "start_time": "2025-02-04T20:03:08.611485",
     "status": "completed"
    },
    "tags": []
   },
   "outputs": [
    {
     "data": {
      "text/plain": [
       "61"
      ]
     },
     "execution_count": 4,
     "metadata": {},
     "output_type": "execute_result"
    }
   ],
   "source": [
    "train_df['keyword'].isna().sum()"
   ]
  },
  {
   "cell_type": "markdown",
   "id": "45871980",
   "metadata": {
    "papermill": {
     "duration": 0.006561,
     "end_time": "2025-02-04T20:03:08.638271",
     "exception": false,
     "start_time": "2025-02-04T20:03:08.631710",
     "status": "completed"
    },
    "tags": []
   },
   "source": [
    "61 Records are missing the 'keyword' field"
   ]
  },
  {
   "cell_type": "code",
   "execution_count": 5,
   "id": "92fa4154",
   "metadata": {
    "execution": {
     "iopub.execute_input": "2025-02-04T20:03:08.652257Z",
     "iopub.status.busy": "2025-02-04T20:03:08.652026Z",
     "iopub.status.idle": "2025-02-04T20:03:08.657436Z",
     "shell.execute_reply": "2025-02-04T20:03:08.656635Z"
    },
    "papermill": {
     "duration": 0.013782,
     "end_time": "2025-02-04T20:03:08.658714",
     "exception": false,
     "start_time": "2025-02-04T20:03:08.644932",
     "status": "completed"
    },
    "tags": []
   },
   "outputs": [
    {
     "data": {
      "text/plain": [
       "2533"
      ]
     },
     "execution_count": 5,
     "metadata": {},
     "output_type": "execute_result"
    }
   ],
   "source": [
    "train_df['location'].isna().sum()"
   ]
  },
  {
   "cell_type": "markdown",
   "id": "f785051e",
   "metadata": {
    "papermill": {
     "duration": 0.006828,
     "end_time": "2025-02-04T20:03:08.672459",
     "exception": false,
     "start_time": "2025-02-04T20:03:08.665631",
     "status": "completed"
    },
    "tags": []
   },
   "source": [
    "2533 records missing 'location' field"
   ]
  },
  {
   "cell_type": "markdown",
   "id": "aed3e939",
   "metadata": {
    "papermill": {
     "duration": 0.006566,
     "end_time": "2025-02-04T20:03:08.686025",
     "exception": false,
     "start_time": "2025-02-04T20:03:08.679459",
     "status": "completed"
    },
    "tags": []
   },
   "source": [
    "Let's examine the class balance:"
   ]
  },
  {
   "cell_type": "code",
   "execution_count": 6,
   "id": "2705707c",
   "metadata": {
    "execution": {
     "iopub.execute_input": "2025-02-04T20:03:08.700385Z",
     "iopub.status.busy": "2025-02-04T20:03:08.700181Z",
     "iopub.status.idle": "2025-02-04T20:03:08.960487Z",
     "shell.execute_reply": "2025-02-04T20:03:08.959712Z"
    },
    "papermill": {
     "duration": 0.269152,
     "end_time": "2025-02-04T20:03:08.961919",
     "exception": false,
     "start_time": "2025-02-04T20:03:08.692767",
     "status": "completed"
    },
    "tags": []
   },
   "outputs": [
    {
     "data": {
      "text/plain": [
       "<Axes: >"
      ]
     },
     "execution_count": 6,
     "metadata": {},
     "output_type": "execute_result"
    },
    {
     "data": {
      "image/png": "[encoded data removed]",
      "text/plain": [
       "<Figure size 640x480 with 1 Axes>"
      ]
     },
     "metadata": {},
     "output_type": "display_data"
    }
   ],
   "source": [
    "train_df['target'].hist()"
   ]
  },
  {
   "cell_type": "markdown",
   "id": "a38c9e3a",
   "metadata": {
    "papermill": {
     "duration": 0.007246,
     "end_time": "2025-02-04T20:03:08.976684",
     "exception": false,
     "start_time": "2025-02-04T20:03:08.969438",
     "status": "completed"
    },
    "tags": []
   },
   "source": [
    "There are slightly more records in the 0 class"
   ]
  },
  {
   "cell_type": "code",
   "execution_count": 7,
   "id": "fb4265c2",
   "metadata": {
    "execution": {
     "iopub.execute_input": "2025-02-04T20:03:08.991901Z",
     "iopub.status.busy": "2025-02-04T20:03:08.991593Z",
     "iopub.status.idle": "2025-02-04T20:03:09.000946Z",
     "shell.execute_reply": "2025-02-04T20:03:09.000125Z"
    },
    "papermill": {
     "duration": 0.018229,
     "end_time": "2025-02-04T20:03:09.002135",
     "exception": false,
     "start_time": "2025-02-04T20:03:08.983906",
     "status": "completed"
    },
    "tags": []
   },
   "outputs": [
    {
     "data": {
      "text/plain": [
       "keyword\n",
       "fatalities     45\n",
       "armageddon     42\n",
       "deluge         42\n",
       "harm           41\n",
       "damage         41\n",
       "sinking        41\n",
       "body%20bags    41\n",
       "siren          40\n",
       "windstorm      40\n",
       "twister        40\n",
       "outbreak       40\n",
       "collided       40\n",
       "fear           40\n",
       "evacuate       40\n",
       "wrecked        39\n",
       "hellfire       39\n",
       "explosion      39\n",
       "derailment     39\n",
       "collision      39\n",
       "weapons        39\n",
       "Name: count, dtype: int64"
      ]
     },
     "execution_count": 7,
     "metadata": {},
     "output_type": "execute_result"
    }
   ],
   "source": [
    "train_df['keyword'].value_counts().head(20)"
   ]
  },
  {
   "cell_type": "markdown",
   "id": "416acf23",
   "metadata": {
    "papermill": {
     "duration": 0.007018,
     "end_time": "2025-02-04T20:03:09.016514",
     "exception": false,
     "start_time": "2025-02-04T20:03:09.009496",
     "status": "completed"
    },
    "tags": []
   },
   "source": [
    "The top keywords seem to be disaster related words"
   ]
  },
  {
   "cell_type": "code",
   "execution_count": 8,
   "id": "f327e413",
   "metadata": {
    "execution": {
     "iopub.execute_input": "2025-02-04T20:03:09.031844Z",
     "iopub.status.busy": "2025-02-04T20:03:09.031576Z",
     "iopub.status.idle": "2025-02-04T20:03:09.191932Z",
     "shell.execute_reply": "2025-02-04T20:03:09.191111Z"
    },
    "papermill": {
     "duration": 0.169589,
     "end_time": "2025-02-04T20:03:09.193282",
     "exception": false,
     "start_time": "2025-02-04T20:03:09.023693",
     "status": "completed"
    },
    "tags": []
   },
   "outputs": [
    {
     "data": {
      "text/plain": [
       "<Axes: >"
      ]
     },
     "execution_count": 8,
     "metadata": {},
     "output_type": "execute_result"
    },
    {
     "data": {
      "image/png": "[encoded data removed]",
      "text/plain": [
       "<Figure size 640x480 with 1 Axes>"
      ]
     },
     "metadata": {},
     "output_type": "display_data"
    }
   ],
   "source": [
    "train_df['text'].apply(len).hist()"
   ]
  },
  {
   "cell_type": "markdown",
   "id": "83c4e01e",
   "metadata": {
    "papermill": {
     "duration": 0.007544,
     "end_time": "2025-02-04T20:03:09.208638",
     "exception": false,
     "start_time": "2025-02-04T20:03:09.201094",
     "status": "completed"
    },
    "tags": []
   },
   "source": [
    "Examining the tweets lengths, it looks like many of the tweets utilized the max length (at the time) of 140 characters.\n",
    "In addition, there seem to be a few outlier records above the max length, let's examine what's in there:"
   ]
  },
  {
   "cell_type": "code",
   "execution_count": 9,
   "id": "8a8c59c5",
   "metadata": {
    "execution": {
     "iopub.execute_input": "2025-02-04T20:03:09.224704Z",
     "iopub.status.busy": "2025-02-04T20:03:09.224486Z",
     "iopub.status.idle": "2025-02-04T20:03:09.235279Z",
     "shell.execute_reply": "2025-02-04T20:03:09.234654Z"
    },
    "papermill": {
     "duration": 0.020099,
     "end_time": "2025-02-04T20:03:09.236403",
     "exception": false,
     "start_time": "2025-02-04T20:03:09.216304",
     "status": "completed"
    },
    "tags": []
   },
   "outputs": [
    {
     "data": {
      "text/plain": [
       "array(['Maailiss: Diaporama : sixpenceee: Karymsky Lake is a crater lake located in the Karymsky volcanoåÊinåÊRussia. With a\\x89Û_ http://t.co/4o460Fm8HN'],\n",
       "      dtype=object)"
      ]
     },
     "execution_count": 9,
     "metadata": {},
     "output_type": "execute_result"
    }
   ],
   "source": [
    "train_df[train_df['text'].apply(len)>140]['text'].sample(1).values"
   ]
  },
  {
   "cell_type": "markdown",
   "id": "f1486cff",
   "metadata": {
    "papermill": {
     "duration": 0.007665,
     "end_time": "2025-02-04T20:03:09.251809",
     "exception": false,
     "start_time": "2025-02-04T20:03:09.244144",
     "status": "completed"
    },
    "tags": []
   },
   "source": [
    "It looks like the character limit did not really go over the max, but the html escaping of the data converting '&' into '&amp;' make it appear like it did"
   ]
  },
  {
   "cell_type": "markdown",
   "id": "3dce9c0f",
   "metadata": {
    "papermill": {
     "duration": 0.007777,
     "end_time": "2025-02-04T20:03:09.267328",
     "exception": false,
     "start_time": "2025-02-04T20:03:09.259551",
     "status": "completed"
    },
    "tags": []
   },
   "source": [
    "It also mean we should html unescape the text field as a preprocessing stage, in order to clean the text."
   ]
  },
  {
   "cell_type": "code",
   "execution_count": 10,
   "id": "e1390beb",
   "metadata": {
    "execution": {
     "iopub.execute_input": "2025-02-04T20:03:09.283795Z",
     "iopub.status.busy": "2025-02-04T20:03:09.283568Z",
     "iopub.status.idle": "2025-02-04T20:03:09.288983Z",
     "shell.execute_reply": "2025-02-04T20:03:09.288309Z"
    },
    "papermill": {
     "duration": 0.014773,
     "end_time": "2025-02-04T20:03:09.290094",
     "exception": false,
     "start_time": "2025-02-04T20:03:09.275321",
     "status": "completed"
    },
    "tags": []
   },
   "outputs": [],
   "source": [
    "import html\n",
    "train_df['text'] = train_df['text'].apply(html.unescape)"
   ]
  },
  {
   "cell_type": "markdown",
   "id": "e7065249",
   "metadata": {
    "papermill": {
     "duration": 0.0076,
     "end_time": "2025-02-04T20:03:09.305497",
     "exception": false,
     "start_time": "2025-02-04T20:03:09.297897",
     "status": "completed"
    },
    "tags": []
   },
   "source": [
    "# Architecture"
   ]
  },
  {
   "cell_type": "markdown",
   "id": "e069a206",
   "metadata": {
    "execution": {
     "iopub.execute_input": "2025-02-04T17:44:41.307837Z",
     "iopub.status.busy": "2025-02-04T17:44:41.307355Z",
     "iopub.status.idle": "2025-02-04T17:44:41.318688Z",
     "shell.execute_reply": "2025-02-04T17:44:41.317406Z",
     "shell.execute_reply.started": "2025-02-04T17:44:41.307799Z"
    },
    "papermill": {
     "duration": 0.007609,
     "end_time": "2025-02-04T20:03:09.320842",
     "exception": false,
     "start_time": "2025-02-04T20:03:09.313233",
     "status": "completed"
    },
    "tags": []
   },
   "source": [
    "## The model layers\n",
    "\n",
    "Embedding Layer: This layer turns the text into dense vectors, where each word is represented by a fixed-size vector.\n",
    "It helps the model understand the meaning of words in relation to each other.\n",
    "\n",
    "GRU Layer: This layer processes the sequence of words.\n",
    "GRUs are a type of RNN that helps the model remember information from earlier words, which is important for understanding the full meaning of a sentence.\n",
    "\n",
    "Dropout Layer: This layer randomly drops some connections during training to prevent the model from overfitting, meaning it won’t just memorize the training data but will learn to generalize better.\n",
    "\n",
    "Dense Layer with Sigmoid Activation: This is the output layer that gives a prediction—whether the tweet is about a disaster (1) or not (0).\n",
    "\n",
    "## Reasoning\n",
    "\n",
    "Text is Sequential: GRU works well because text has an order (words follow each other), and we need to understand that order to get the meaning.\n",
    "\n",
    "Efficiency: GRU is faster than other types of RNNs like LSTM, so it’s a good choice when we want a balance of performance and speed.\n",
    "\n",
    "Avoid Overfitting: The dropout layer helps the model not to memorize the data, but rather learn general patterns that work on new data.\n",
    "\n",
    "## Text Representation\n",
    "\n",
    "To turn the raw text into a form the model can understand, I used a tokenizer.\n",
    "\n",
    "It converts words into numbers based on their frequency in the dataset.\n",
    "\n",
    "Then, I applied padding to make sure all the input sequences have the same length, so the model can process them in batches."
   ]
  },
  {
   "cell_type": "code",
   "execution_count": 11,
   "id": "8e4d8682",
   "metadata": {
    "execution": {
     "iopub.execute_input": "2025-02-04T20:03:09.337048Z",
     "iopub.status.busy": "2025-02-04T20:03:09.336850Z",
     "iopub.status.idle": "2025-02-04T20:03:10.155652Z",
     "shell.execute_reply": "2025-02-04T20:03:10.154982Z"
    },
    "papermill": {
     "duration": 0.828694,
     "end_time": "2025-02-04T20:03:10.157241",
     "exception": false,
     "start_time": "2025-02-04T20:03:09.328547",
     "status": "completed"
    },
    "tags": []
   },
   "outputs": [],
   "source": [
    "from tensorflow.keras.models import Sequential\n",
    "from tensorflow.keras.layers import GRU, Embedding, Dense, Dropout\n",
    "from tensorflow.keras.preprocessing.text import Tokenizer\n",
    "from tensorflow.keras.preprocessing.sequence import pad_sequences\n",
    "from sklearn.model_selection import train_test_split\n",
    "from tensorflow.keras.optimizers import Adam\n"
   ]
  },
  {
   "cell_type": "code",
   "execution_count": 12,
   "id": "7c5179eb",
   "metadata": {
    "execution": {
     "iopub.execute_input": "2025-02-04T20:03:10.174640Z",
     "iopub.status.busy": "2025-02-04T20:03:10.174160Z",
     "iopub.status.idle": "2025-02-04T20:03:10.177620Z",
     "shell.execute_reply": "2025-02-04T20:03:10.177017Z"
    },
    "papermill": {
     "duration": 0.013224,
     "end_time": "2025-02-04T20:03:10.178836",
     "exception": false,
     "start_time": "2025-02-04T20:03:10.165612",
     "status": "completed"
    },
    "tags": []
   },
   "outputs": [],
   "source": [
    "# Parameters\n",
    "max_vocab = 10000   # Maximum vocabulary size\n",
    "embedding_dim = 50  # Dimension of the embedding vector\n",
    "batch_size = 32     # Batch size for training\n",
    "epochs = 20         # Number of epochs"
   ]
  },
  {
   "cell_type": "code",
   "execution_count": 13,
   "id": "0ec7c742",
   "metadata": {
    "execution": {
     "iopub.execute_input": "2025-02-04T20:03:10.195245Z",
     "iopub.status.busy": "2025-02-04T20:03:10.195023Z",
     "iopub.status.idle": "2025-02-04T20:03:10.473298Z",
     "shell.execute_reply": "2025-02-04T20:03:10.472659Z"
    },
    "papermill": {
     "duration": 0.288006,
     "end_time": "2025-02-04T20:03:10.474638",
     "exception": false,
     "start_time": "2025-02-04T20:03:10.186632",
     "status": "completed"
    },
    "tags": []
   },
   "outputs": [],
   "source": [
    "# Preprocessing text data\n",
    "tokenizer = Tokenizer(num_words=max_vocab)\n",
    "tokenizer.fit_on_texts(train_df['text'])\n",
    "X = tokenizer.texts_to_sequences(train_df['text'])\n",
    "X = pad_sequences(X)\n",
    "\n",
    "y = train_df['target'].values"
   ]
  },
  {
   "cell_type": "code",
   "execution_count": 14,
   "id": "afa5f663",
   "metadata": {
    "execution": {
     "iopub.execute_input": "2025-02-04T20:03:10.491753Z",
     "iopub.status.busy": "2025-02-04T20:03:10.491494Z",
     "iopub.status.idle": "2025-02-04T20:03:10.496320Z",
     "shell.execute_reply": "2025-02-04T20:03:10.495505Z"
    },
    "papermill": {
     "duration": 0.014618,
     "end_time": "2025-02-04T20:03:10.497578",
     "exception": false,
     "start_time": "2025-02-04T20:03:10.482960",
     "status": "completed"
    },
    "tags": []
   },
   "outputs": [],
   "source": [
    "# Split data into training and testing\n",
    "X_train, X_test, y_train, y_test = train_test_split(X, y, test_size=0.2, random_state=42)"
   ]
  },
  {
   "cell_type": "code",
   "execution_count": 15,
   "id": "d6c11bdb",
   "metadata": {
    "execution": {
     "iopub.execute_input": "2025-02-04T20:03:10.519469Z",
     "iopub.status.busy": "2025-02-04T20:03:10.519201Z",
     "iopub.status.idle": "2025-02-04T20:03:10.523547Z",
     "shell.execute_reply": "2025-02-04T20:03:10.522779Z"
    },
    "papermill": {
     "duration": 0.014571,
     "end_time": "2025-02-04T20:03:10.524929",
     "exception": false,
     "start_time": "2025-02-04T20:03:10.510358",
     "status": "completed"
    },
    "tags": []
   },
   "outputs": [],
   "source": [
    "# Building the model\n",
    "def build_model(gru_units, dropout, lr):\n",
    "    model = Sequential()\n",
    "    model.add(Embedding(input_dim=max_vocab, output_dim=embedding_dim))\n",
    "    model.add(GRU(gru_units, return_sequences=False))  # GRU layer\n",
    "    model.add(Dropout(dropout))  # Dropout to prevent overfitting\n",
    "    model.add(Dense(1, activation='sigmoid'))  # Binary classification output layer\n",
    "\n",
    "    # Compile the model\n",
    "    model.compile(optimizer=Adam(learning_rate=lr), loss='binary_crossentropy', metrics=['accuracy'])\n",
    "    \n",
    "    return model"
   ]
  },
  {
   "cell_type": "code",
   "execution_count": 16,
   "id": "48a2f9bc",
   "metadata": {
    "execution": {
     "iopub.execute_input": "2025-02-04T20:03:10.541512Z",
     "iopub.status.busy": "2025-02-04T20:03:10.541287Z",
     "iopub.status.idle": "2025-02-04T20:03:11.344005Z",
     "shell.execute_reply": "2025-02-04T20:03:11.343335Z"
    },
    "papermill": {
     "duration": 0.812508,
     "end_time": "2025-02-04T20:03:11.345430",
     "exception": false,
     "start_time": "2025-02-04T20:03:10.532922",
     "status": "completed"
    },
    "tags": []
   },
   "outputs": [],
   "source": [
    "models = [\n",
    "    build_model(64, 0.1, 5e-5),\n",
    "    build_model(64, 0.3, 5e-5),\n",
    "    build_model(64, 0.5, 5e-5),\n",
    "]\n",
    "\n",
    "checkpoint_cb = [keras.callbacks.ModelCheckpoint(f\"tweeter_model_{n}.keras\", save_best_only=True) for n in range(len(models))]\n",
    "\n",
    "early_stopping_cb = [keras.callbacks.EarlyStopping(\n",
    "    patience=3, restore_best_weights=True\n",
    ") for n in range(len(models))]\n"
   ]
  },
  {
   "cell_type": "code",
   "execution_count": 17,
   "id": "085363d4",
   "metadata": {
    "execution": {
     "iopub.execute_input": "2025-02-04T20:03:11.362868Z",
     "iopub.status.busy": "2025-02-04T20:03:11.362570Z",
     "iopub.status.idle": "2025-02-04T20:03:11.366990Z",
     "shell.execute_reply": "2025-02-04T20:03:11.366344Z"
    },
    "papermill": {
     "duration": 0.014174,
     "end_time": "2025-02-04T20:03:11.368203",
     "exception": false,
     "start_time": "2025-02-04T20:03:11.354029",
     "status": "completed"
    },
    "tags": []
   },
   "outputs": [],
   "source": [
    "def train_multiple_models(models):\n",
    "    best_model = None\n",
    "    best_accuracy = 0\n",
    "    \n",
    "    histories = []\n",
    "    \n",
    "    for n, model in enumerate(models):\n",
    "        # Train the model\n",
    "        history = model.fit(X_train, y_train, batch_size=batch_size, epochs=epochs, validation_data=(X_test, y_test), callbacks=[checkpoint_cb[n], early_stopping_cb[n]])\n",
    "        histories.append(history)\n",
    "        \n",
    "        # Evaluate the model\n",
    "        loss, accuracy = model.evaluate(X_test, y_test)\n",
    "        print(f\"Test Accuracy: {accuracy:.4f}\")\n",
    "    \n",
    "        if accuracy > best_accuracy:\n",
    "            best_accuracy = accuracy\n",
    "            best_model = model\n",
    "    \n",
    "    return histories, best_accuracy, best_model"
   ]
  },
  {
   "cell_type": "code",
   "execution_count": 18,
   "id": "df3cadc6",
   "metadata": {
    "execution": {
     "iopub.execute_input": "2025-02-04T20:03:11.385197Z",
     "iopub.status.busy": "2025-02-04T20:03:11.384970Z",
     "iopub.status.idle": "2025-02-04T20:04:03.012017Z",
     "shell.execute_reply": "2025-02-04T20:04:03.011190Z"
    },
    "papermill": {
     "duration": 51.636919,
     "end_time": "2025-02-04T20:04:03.013335",
     "exception": false,
     "start_time": "2025-02-04T20:03:11.376416",
     "status": "completed"
    },
    "tags": []
   },
   "outputs": [
    {
     "name": "stdout",
     "output_type": "stream",
     "text": [
      "Epoch 1/20\n",
      "\u001b[1m191/191\u001b[0m \u001b[32m━━━━━━━━━━━━━━━━━━━━\u001b[0m\u001b[37m\u001b[0m \u001b[1m7s\u001b[0m 6ms/step - accuracy: 0.5291 - loss: 0.6912 - val_accuracy: 0.5739 - val_loss: 0.6832\n",
      "Epoch 2/20\n",
      "\u001b[1m191/191\u001b[0m \u001b[32m━━━━━━━━━━━━━━━━━━━━\u001b[0m\u001b[37m\u001b[0m \u001b[1m1s\u001b[0m 5ms/step - accuracy: 0.5780 - loss: 0.6777 - val_accuracy: 0.5778 - val_loss: 0.6594\n",
      "Epoch 3/20\n",
      "\u001b[1m191/191\u001b[0m \u001b[32m━━━━━━━━━━━━━━━━━━━━\u001b[0m\u001b[37m\u001b[0m \u001b[1m1s\u001b[0m 5ms/step - accuracy: 0.5883 - loss: 0.6520 - val_accuracy: 0.6389 - val_loss: 0.6313\n",
      "Epoch 4/20\n",
      "\u001b[1m191/191\u001b[0m \u001b[32m━━━━━━━━━━━━━━━━━━━━\u001b[0m\u001b[37m\u001b[0m \u001b[1m1s\u001b[0m 5ms/step - accuracy: 0.6637 - loss: 0.6257 - val_accuracy: 0.6651 - val_loss: 0.6143\n",
      "Epoch 5/20\n",
      "\u001b[1m191/191\u001b[0m \u001b[32m━━━━━━━━━━━━━━━━━━━━\u001b[0m\u001b[37m\u001b[0m \u001b[1m1s\u001b[0m 5ms/step - accuracy: 0.6999 - loss: 0.5810 - val_accuracy: 0.6881 - val_loss: 0.5897\n",
      "Epoch 6/20\n",
      "\u001b[1m191/191\u001b[0m \u001b[32m━━━━━━━━━━━━━━━━━━━━\u001b[0m\u001b[37m\u001b[0m \u001b[1m1s\u001b[0m 5ms/step - accuracy: 0.7359 - loss: 0.5456 - val_accuracy: 0.7347 - val_loss: 0.5464\n",
      "Epoch 7/20\n",
      "\u001b[1m191/191\u001b[0m \u001b[32m━━━━━━━━━━━━━━━━━━━━\u001b[0m\u001b[37m\u001b[0m \u001b[1m1s\u001b[0m 5ms/step - accuracy: 0.7936 - loss: 0.4654 - val_accuracy: 0.7774 - val_loss: 0.5011\n",
      "Epoch 8/20\n",
      "\u001b[1m191/191\u001b[0m \u001b[32m━━━━━━━━━━━━━━━━━━━━\u001b[0m\u001b[37m\u001b[0m \u001b[1m1s\u001b[0m 5ms/step - accuracy: 0.8330 - loss: 0.4036 - val_accuracy: 0.7932 - val_loss: 0.4814\n",
      "Epoch 9/20\n",
      "\u001b[1m191/191\u001b[0m \u001b[32m━━━━━━━━━━━━━━━━━━━━\u001b[0m\u001b[37m\u001b[0m \u001b[1m1s\u001b[0m 5ms/step - accuracy: 0.8615 - loss: 0.3498 - val_accuracy: 0.7965 - val_loss: 0.4784\n",
      "Epoch 10/20\n",
      "\u001b[1m191/191\u001b[0m \u001b[32m━━━━━━━━━━━━━━━━━━━━\u001b[0m\u001b[37m\u001b[0m \u001b[1m1s\u001b[0m 5ms/step - accuracy: 0.8748 - loss: 0.3186 - val_accuracy: 0.8056 - val_loss: 0.4655\n",
      "Epoch 11/20\n",
      "\u001b[1m191/191\u001b[0m \u001b[32m━━━━━━━━━━━━━━━━━━━━\u001b[0m\u001b[37m\u001b[0m \u001b[1m1s\u001b[0m 5ms/step - accuracy: 0.8843 - loss: 0.2972 - val_accuracy: 0.7932 - val_loss: 0.4775\n",
      "Epoch 12/20\n",
      "\u001b[1m191/191\u001b[0m \u001b[32m━━━━━━━━━━━━━━━━━━━━\u001b[0m\u001b[37m\u001b[0m \u001b[1m1s\u001b[0m 5ms/step - accuracy: 0.8926 - loss: 0.2711 - val_accuracy: 0.8017 - val_loss: 0.4666\n",
      "Epoch 13/20\n",
      "\u001b[1m191/191\u001b[0m \u001b[32m━━━━━━━━━━━━━━━━━━━━\u001b[0m\u001b[37m\u001b[0m \u001b[1m1s\u001b[0m 5ms/step - accuracy: 0.9065 - loss: 0.2541 - val_accuracy: 0.8056 - val_loss: 0.4802\n",
      "\u001b[1m48/48\u001b[0m \u001b[32m━━━━━━━━━━━━━━━━━━━━\u001b[0m\u001b[37m\u001b[0m \u001b[1m0s\u001b[0m 2ms/step - accuracy: 0.7915 - loss: 0.4922\n",
      "Test Accuracy: 0.8056\n",
      "Epoch 1/20\n",
      "\u001b[1m191/191\u001b[0m \u001b[32m━━━━━━━━━━━━━━━━━━━━\u001b[0m\u001b[37m\u001b[0m \u001b[1m2s\u001b[0m 6ms/step - accuracy: 0.5219 - loss: 0.6917 - val_accuracy: 0.5739 - val_loss: 0.6862\n",
      "Epoch 2/20\n",
      "\u001b[1m191/191\u001b[0m \u001b[32m━━━━━━━━━━━━━━━━━━━━\u001b[0m\u001b[37m\u001b[0m \u001b[1m1s\u001b[0m 5ms/step - accuracy: 0.5742 - loss: 0.6826 - val_accuracy: 0.5732 - val_loss: 0.6714\n",
      "Epoch 3/20\n",
      "\u001b[1m191/191\u001b[0m \u001b[32m━━━━━━━━━━━━━━━━━━━━\u001b[0m\u001b[37m\u001b[0m \u001b[1m1s\u001b[0m 5ms/step - accuracy: 0.5757 - loss: 0.6609 - val_accuracy: 0.6218 - val_loss: 0.6385\n",
      "Epoch 4/20\n",
      "\u001b[1m191/191\u001b[0m \u001b[32m━━━━━━━━━━━━━━━━━━━━\u001b[0m\u001b[37m\u001b[0m \u001b[1m1s\u001b[0m 5ms/step - accuracy: 0.6571 - loss: 0.6249 - val_accuracy: 0.6586 - val_loss: 0.6205\n",
      "Epoch 5/20\n",
      "\u001b[1m191/191\u001b[0m \u001b[32m━━━━━━━━━━━━━━━━━━━━\u001b[0m\u001b[37m\u001b[0m \u001b[1m1s\u001b[0m 5ms/step - accuracy: 0.6751 - loss: 0.6060 - val_accuracy: 0.6822 - val_loss: 0.5978\n",
      "Epoch 6/20\n",
      "\u001b[1m191/191\u001b[0m \u001b[32m━━━━━━━━━━━━━━━━━━━━\u001b[0m\u001b[37m\u001b[0m \u001b[1m1s\u001b[0m 5ms/step - accuracy: 0.7199 - loss: 0.5578 - val_accuracy: 0.7249 - val_loss: 0.5558\n",
      "Epoch 7/20\n",
      "\u001b[1m191/191\u001b[0m \u001b[32m━━━━━━━━━━━━━━━━━━━━\u001b[0m\u001b[37m\u001b[0m \u001b[1m1s\u001b[0m 5ms/step - accuracy: 0.7885 - loss: 0.4845 - val_accuracy: 0.7466 - val_loss: 0.5282\n",
      "Epoch 8/20\n",
      "\u001b[1m191/191\u001b[0m \u001b[32m━━━━━━━━━━━━━━━━━━━━\u001b[0m\u001b[37m\u001b[0m \u001b[1m1s\u001b[0m 5ms/step - accuracy: 0.8310 - loss: 0.4120 - val_accuracy: 0.7728 - val_loss: 0.5052\n",
      "Epoch 9/20\n",
      "\u001b[1m191/191\u001b[0m \u001b[32m━━━━━━━━━━━━━━━━━━━━\u001b[0m\u001b[37m\u001b[0m \u001b[1m1s\u001b[0m 5ms/step - accuracy: 0.8499 - loss: 0.3699 - val_accuracy: 0.8024 - val_loss: 0.4857\n",
      "Epoch 10/20\n",
      "\u001b[1m191/191\u001b[0m \u001b[32m━━━━━━━━━━━━━━━━━━━━\u001b[0m\u001b[37m\u001b[0m \u001b[1m1s\u001b[0m 5ms/step - accuracy: 0.8661 - loss: 0.3325 - val_accuracy: 0.7932 - val_loss: 0.4846\n",
      "Epoch 11/20\n",
      "\u001b[1m191/191\u001b[0m \u001b[32m━━━━━━━━━━━━━━━━━━━━\u001b[0m\u001b[37m\u001b[0m \u001b[1m1s\u001b[0m 5ms/step - accuracy: 0.8846 - loss: 0.2996 - val_accuracy: 0.8076 - val_loss: 0.4788\n",
      "Epoch 12/20\n",
      "\u001b[1m191/191\u001b[0m \u001b[32m━━━━━━━━━━━━━━━━━━━━\u001b[0m\u001b[37m\u001b[0m \u001b[1m1s\u001b[0m 5ms/step - accuracy: 0.8929 - loss: 0.2796 - val_accuracy: 0.8083 - val_loss: 0.4851\n",
      "Epoch 13/20\n",
      "\u001b[1m191/191\u001b[0m \u001b[32m━━━━━━━━━━━━━━━━━━━━\u001b[0m\u001b[37m\u001b[0m \u001b[1m1s\u001b[0m 5ms/step - accuracy: 0.8951 - loss: 0.2610 - val_accuracy: 0.8030 - val_loss: 0.4900\n",
      "Epoch 14/20\n",
      "\u001b[1m191/191\u001b[0m \u001b[32m━━━━━━━━━━━━━━━━━━━━\u001b[0m\u001b[37m\u001b[0m \u001b[1m1s\u001b[0m 5ms/step - accuracy: 0.9080 - loss: 0.2385 - val_accuracy: 0.8083 - val_loss: 0.4986\n",
      "\u001b[1m48/48\u001b[0m \u001b[32m━━━━━━━━━━━━━━━━━━━━\u001b[0m\u001b[37m\u001b[0m \u001b[1m0s\u001b[0m 2ms/step - accuracy: 0.7923 - loss: 0.5111\n",
      "Test Accuracy: 0.8076\n",
      "Epoch 1/20\n",
      "\u001b[1m191/191\u001b[0m \u001b[32m━━━━━━━━━━━━━━━━━━━━\u001b[0m\u001b[37m\u001b[0m \u001b[1m3s\u001b[0m 6ms/step - accuracy: 0.5653 - loss: 0.6916 - val_accuracy: 0.5739 - val_loss: 0.6876\n",
      "Epoch 2/20\n",
      "\u001b[1m191/191\u001b[0m \u001b[32m━━━━━━━━━━━━━━━━━━━━\u001b[0m\u001b[37m\u001b[0m \u001b[1m1s\u001b[0m 5ms/step - accuracy: 0.5674 - loss: 0.6858 - val_accuracy: 0.5739 - val_loss: 0.6767\n",
      "Epoch 3/20\n",
      "\u001b[1m191/191\u001b[0m \u001b[32m━━━━━━━━━━━━━━━━━━━━\u001b[0m\u001b[37m\u001b[0m \u001b[1m1s\u001b[0m 5ms/step - accuracy: 0.5639 - loss: 0.6703 - val_accuracy: 0.5798 - val_loss: 0.6476\n",
      "Epoch 4/20\n",
      "\u001b[1m191/191\u001b[0m \u001b[32m━━━━━━━━━━━━━━━━━━━━\u001b[0m\u001b[37m\u001b[0m \u001b[1m1s\u001b[0m 5ms/step - accuracy: 0.6146 - loss: 0.6437 - val_accuracy: 0.6487 - val_loss: 0.6289\n",
      "Epoch 5/20\n",
      "\u001b[1m191/191\u001b[0m \u001b[32m━━━━━━━━━━━━━━━━━━━━\u001b[0m\u001b[37m\u001b[0m \u001b[1m1s\u001b[0m 5ms/step - accuracy: 0.6815 - loss: 0.6151 - val_accuracy: 0.6770 - val_loss: 0.6102\n",
      "Epoch 6/20\n",
      "\u001b[1m191/191\u001b[0m \u001b[32m━━━━━━━━━━━━━━━━━━━━\u001b[0m\u001b[37m\u001b[0m \u001b[1m1s\u001b[0m 5ms/step - accuracy: 0.7003 - loss: 0.5859 - val_accuracy: 0.7131 - val_loss: 0.5771\n",
      "Epoch 7/20\n",
      "\u001b[1m191/191\u001b[0m \u001b[32m━━━━━━━━━━━━━━━━━━━━\u001b[0m\u001b[37m\u001b[0m \u001b[1m1s\u001b[0m 5ms/step - accuracy: 0.7512 - loss: 0.5339 - val_accuracy: 0.7544 - val_loss: 0.5416\n",
      "Epoch 8/20\n",
      "\u001b[1m191/191\u001b[0m \u001b[32m━━━━━━━━━━━━━━━━━━━━\u001b[0m\u001b[37m\u001b[0m \u001b[1m1s\u001b[0m 5ms/step - accuracy: 0.8014 - loss: 0.4695 - val_accuracy: 0.7866 - val_loss: 0.5128\n",
      "Epoch 9/20\n",
      "\u001b[1m191/191\u001b[0m \u001b[32m━━━━━━━━━━━━━━━━━━━━\u001b[0m\u001b[37m\u001b[0m \u001b[1m1s\u001b[0m 5ms/step - accuracy: 0.8343 - loss: 0.4131 - val_accuracy: 0.7991 - val_loss: 0.4989\n",
      "Epoch 10/20\n",
      "\u001b[1m191/191\u001b[0m \u001b[32m━━━━━━━━━━━━━━━━━━━━\u001b[0m\u001b[37m\u001b[0m \u001b[1m1s\u001b[0m 5ms/step - accuracy: 0.8616 - loss: 0.3544 - val_accuracy: 0.7965 - val_loss: 0.4917\n",
      "Epoch 11/20\n",
      "\u001b[1m191/191\u001b[0m \u001b[32m━━━━━━━━━━━━━━━━━━━━\u001b[0m\u001b[37m\u001b[0m \u001b[1m1s\u001b[0m 5ms/step - accuracy: 0.8755 - loss: 0.3304 - val_accuracy: 0.7873 - val_loss: 0.4937\n",
      "Epoch 12/20\n",
      "\u001b[1m191/191\u001b[0m \u001b[32m━━━━━━━━━━━━━━━━━━━━\u001b[0m\u001b[37m\u001b[0m \u001b[1m1s\u001b[0m 5ms/step - accuracy: 0.8837 - loss: 0.2940 - val_accuracy: 0.7866 - val_loss: 0.4888\n",
      "Epoch 13/20\n",
      "\u001b[1m191/191\u001b[0m \u001b[32m━━━━━━━━━━━━━━━━━━━━\u001b[0m\u001b[37m\u001b[0m \u001b[1m1s\u001b[0m 5ms/step - accuracy: 0.8957 - loss: 0.2715 - val_accuracy: 0.8083 - val_loss: 0.4832\n",
      "Epoch 14/20\n",
      "\u001b[1m191/191\u001b[0m \u001b[32m━━━━━━━━━━━━━━━━━━━━\u001b[0m\u001b[37m\u001b[0m \u001b[1m1s\u001b[0m 5ms/step - accuracy: 0.9017 - loss: 0.2652 - val_accuracy: 0.7945 - val_loss: 0.4924\n",
      "Epoch 15/20\n",
      "\u001b[1m191/191\u001b[0m \u001b[32m━━━━━━━━━━━━━━━━━━━━\u001b[0m\u001b[37m\u001b[0m \u001b[1m1s\u001b[0m 5ms/step - accuracy: 0.9096 - loss: 0.2447 - val_accuracy: 0.8076 - val_loss: 0.5153\n",
      "Epoch 16/20\n",
      "\u001b[1m191/191\u001b[0m \u001b[32m━━━━━━━━━━━━━━━━━━━━\u001b[0m\u001b[37m\u001b[0m \u001b[1m1s\u001b[0m 5ms/step - accuracy: 0.9058 - loss: 0.2458 - val_accuracy: 0.8070 - val_loss: 0.5134\n",
      "\u001b[1m48/48\u001b[0m \u001b[32m━━━━━━━━━━━━━━━━━━━━\u001b[0m\u001b[37m\u001b[0m \u001b[1m0s\u001b[0m 2ms/step - accuracy: 0.7907 - loss: 0.5224\n",
      "Test Accuracy: 0.8083\n"
     ]
    }
   ],
   "source": [
    "histories, best_accuracy, best_model = train_multiple_models(models)"
   ]
  },
  {
   "cell_type": "code",
   "execution_count": 19,
   "id": "7242fbc7",
   "metadata": {
    "execution": {
     "iopub.execute_input": "2025-02-04T20:04:03.140856Z",
     "iopub.status.busy": "2025-02-04T20:04:03.140509Z",
     "iopub.status.idle": "2025-02-04T20:04:03.144883Z",
     "shell.execute_reply": "2025-02-04T20:04:03.144221Z"
    },
    "papermill": {
     "duration": 0.088429,
     "end_time": "2025-02-04T20:04:03.146048",
     "exception": false,
     "start_time": "2025-02-04T20:04:03.057619",
     "status": "completed"
    },
    "tags": []
   },
   "outputs": [],
   "source": [
    "import matplotlib.pyplot as plt\n",
    "\n",
    "def plot_histories(histories):\n",
    "    for history in histories:\n",
    "        # Plotting training and validation loss\n",
    "        plt.plot(history.history['loss'], label='Training Loss')\n",
    "        plt.plot(history.history['val_loss'], label='Validation Loss')\n",
    "        plt.title('Training and Validation Loss Over Epochs')\n",
    "        plt.xlabel('Epochs')\n",
    "        plt.ylabel('Loss')\n",
    "        plt.legend()\n",
    "        plt.show()"
   ]
  },
  {
   "cell_type": "code",
   "execution_count": 20,
   "id": "4268e9b1",
   "metadata": {
    "execution": {
     "iopub.execute_input": "2025-02-04T20:04:03.230937Z",
     "iopub.status.busy": "2025-02-04T20:04:03.230669Z",
     "iopub.status.idle": "2025-02-04T20:04:03.234603Z",
     "shell.execute_reply": "2025-02-04T20:04:03.233798Z"
    },
    "papermill": {
     "duration": 0.047641,
     "end_time": "2025-02-04T20:04:03.235853",
     "exception": false,
     "start_time": "2025-02-04T20:04:03.188212",
     "status": "completed"
    },
    "tags": []
   },
   "outputs": [
    {
     "name": "stdout",
     "output_type": "stream",
     "text": [
      "0.8082731366157532\n"
     ]
    }
   ],
   "source": [
    "print(best_accuracy)"
   ]
  },
  {
   "cell_type": "code",
   "execution_count": 21,
   "id": "b03a4dd1",
   "metadata": {
    "execution": {
     "iopub.execute_input": "2025-02-04T20:04:03.320994Z",
     "iopub.status.busy": "2025-02-04T20:04:03.320757Z",
     "iopub.status.idle": "2025-02-04T20:04:03.811007Z",
     "shell.execute_reply": "2025-02-04T20:04:03.810231Z"
    },
    "papermill": {
     "duration": 0.534284,
     "end_time": "2025-02-04T20:04:03.812339",
     "exception": false,
     "start_time": "2025-02-04T20:04:03.278055",
     "status": "completed"
    },
    "tags": []
   },
   "outputs": [
    {
     "data": {
      "image/png": "[encoded data removed]",
      "text/plain": [
       "<Figure size 640x480 with 1 Axes>"
      ]
     },
     "metadata": {},
     "output_type": "display_data"
    },
    {
     "data": {
      "image/png": "[encoded data removed]",
      "text/plain": [
       "<Figure size 640x480 with 1 Axes>"
      ]
     },
     "metadata": {},
     "output_type": "display_data"
    },
    {
     "data": {
      "image/png": "[encoded data removed]",
      "text/plain": [
       "<Figure size 640x480 with 1 Axes>"
      ]
     },
     "metadata": {},
     "output_type": "display_data"
    }
   ],
   "source": [
    "plot_histories(histories)"
   ]
  },
  {
   "cell_type": "markdown",
   "id": "7e5f5640",
   "metadata": {
    "papermill": {
     "duration": 0.044577,
     "end_time": "2025-02-04T20:04:03.903024",
     "exception": false,
     "start_time": "2025-02-04T20:04:03.858447",
     "status": "completed"
    },
    "tags": []
   },
   "source": [
    "# Using Word2Vec"
   ]
  },
  {
   "cell_type": "code",
   "execution_count": 22,
   "id": "0ebdd68b",
   "metadata": {
    "execution": {
     "iopub.execute_input": "2025-02-04T20:04:03.993581Z",
     "iopub.status.busy": "2025-02-04T20:04:03.993204Z",
     "iopub.status.idle": "2025-02-04T20:05:09.866567Z",
     "shell.execute_reply": "2025-02-04T20:05:09.865848Z"
    },
    "papermill": {
     "duration": 65.92062,
     "end_time": "2025-02-04T20:05:09.868280",
     "exception": false,
     "start_time": "2025-02-04T20:04:03.947660",
     "status": "completed"
    },
    "tags": []
   },
   "outputs": [],
   "source": [
    "import gensim\n",
    "\n",
    "word2vec_model = gensim.models.KeyedVectors.load_word2vec_format('/kaggle/input/google-word2vec/GoogleNews-vectors-negative300.bin', binary=True)\n",
    "\n"
   ]
  },
  {
   "cell_type": "code",
   "execution_count": 23,
   "id": "729a747c",
   "metadata": {
    "execution": {
     "iopub.execute_input": "2025-02-04T20:05:09.960822Z",
     "iopub.status.busy": "2025-02-04T20:05:09.960464Z",
     "iopub.status.idle": "2025-02-04T20:05:10.038401Z",
     "shell.execute_reply": "2025-02-04T20:05:10.037459Z"
    },
    "papermill": {
     "duration": 0.125498,
     "end_time": "2025-02-04T20:05:10.039990",
     "exception": false,
     "start_time": "2025-02-04T20:05:09.914492",
     "status": "completed"
    },
    "tags": []
   },
   "outputs": [],
   "source": [
    "word_index = tokenizer.word_index\n",
    "embedding_dim = 300\n",
    "embedding_matrix = np.zeros((len(word_index) + 1, embedding_dim))\n",
    "for word, i in word_index.items():\n",
    "    if word in word2vec_model:\n",
    "        embedding_matrix[i] = word2vec_model[word]\n",
    "\n"
   ]
  },
  {
   "cell_type": "code",
   "execution_count": 24,
   "id": "58c1e625",
   "metadata": {
    "execution": {
     "iopub.execute_input": "2025-02-04T20:05:10.131945Z",
     "iopub.status.busy": "2025-02-04T20:05:10.131640Z",
     "iopub.status.idle": "2025-02-04T20:05:10.136246Z",
     "shell.execute_reply": "2025-02-04T20:05:10.135446Z"
    },
    "papermill": {
     "duration": 0.0512,
     "end_time": "2025-02-04T20:05:10.137441",
     "exception": false,
     "start_time": "2025-02-04T20:05:10.086241",
     "status": "completed"
    },
    "tags": []
   },
   "outputs": [],
   "source": [
    "# Building the model\n",
    "def build_word2vec_model(gru_units, dropout, lr):\n",
    "    model = Sequential()\n",
    "    model.add(Embedding(input_dim=len(word_index) + 1, \n",
    "                    output_dim=embedding_dim, \n",
    "                    weights=[embedding_matrix],  # Pre-trained embeddings\n",
    "                    trainable=False))\n",
    "    \n",
    "    model.add(GRU(gru_units, return_sequences=False))  # GRU layer\n",
    "    model.add(Dropout(dropout))  # Dropout to prevent overfitting\n",
    "    model.add(Dense(1, activation='sigmoid'))  # Binary classification output layer\n",
    "\n",
    "    # Compile the model\n",
    "    model.compile(optimizer=Adam(learning_rate=lr), loss='binary_crossentropy', metrics=['accuracy'])\n",
    "    \n",
    "    return model"
   ]
  },
  {
   "cell_type": "code",
   "execution_count": 25,
   "id": "cc58aaa9",
   "metadata": {
    "execution": {
     "iopub.execute_input": "2025-02-04T20:05:10.229252Z",
     "iopub.status.busy": "2025-02-04T20:05:10.229023Z",
     "iopub.status.idle": "2025-02-04T20:05:10.415495Z",
     "shell.execute_reply": "2025-02-04T20:05:10.414551Z"
    },
    "papermill": {
     "duration": 0.233145,
     "end_time": "2025-02-04T20:05:10.417233",
     "exception": false,
     "start_time": "2025-02-04T20:05:10.184088",
     "status": "completed"
    },
    "tags": []
   },
   "outputs": [],
   "source": [
    "models = [\n",
    "    build_word2vec_model(64, 0.1, 5e-5),\n",
    "    build_word2vec_model(64, 0.5, 5e-5),\n",
    "]\n",
    "\n",
    "checkpoint_cb = [keras.callbacks.ModelCheckpoint(f\"tweeter_model_{n}.keras\", save_best_only=True) for n in range(len(models))]\n",
    "\n",
    "early_stopping_cb = [keras.callbacks.EarlyStopping(\n",
    "    patience=3, restore_best_weights=True\n",
    ") for n in range(len(models))]\n"
   ]
  },
  {
   "cell_type": "code",
   "execution_count": 26,
   "id": "7309387f",
   "metadata": {
    "execution": {
     "iopub.execute_input": "2025-02-04T20:05:10.508959Z",
     "iopub.status.busy": "2025-02-04T20:05:10.508671Z",
     "iopub.status.idle": "2025-02-04T20:05:55.373504Z",
     "shell.execute_reply": "2025-02-04T20:05:55.372605Z"
    },
    "papermill": {
     "duration": 44.91184,
     "end_time": "2025-02-04T20:05:55.375042",
     "exception": false,
     "start_time": "2025-02-04T20:05:10.463202",
     "status": "completed"
    },
    "tags": []
   },
   "outputs": [
    {
     "name": "stdout",
     "output_type": "stream",
     "text": [
      "Epoch 1/20\n",
      "\u001b[1m191/191\u001b[0m \u001b[32m━━━━━━━━━━━━━━━━━━━━\u001b[0m\u001b[37m\u001b[0m \u001b[1m2s\u001b[0m 7ms/step - accuracy: 0.5628 - loss: 0.6826 - val_accuracy: 0.6356 - val_loss: 0.6497\n",
      "Epoch 2/20\n",
      "\u001b[1m191/191\u001b[0m \u001b[32m━━━━━━━━━━━━━━━━━━━━\u001b[0m\u001b[37m\u001b[0m \u001b[1m1s\u001b[0m 5ms/step - accuracy: 0.6431 - loss: 0.6410 - val_accuracy: 0.6336 - val_loss: 0.6313\n",
      "Epoch 3/20\n",
      "\u001b[1m191/191\u001b[0m \u001b[32m━━━━━━━━━━━━━━━━━━━━\u001b[0m\u001b[37m\u001b[0m \u001b[1m1s\u001b[0m 5ms/step - accuracy: 0.6565 - loss: 0.6200 - val_accuracy: 0.6789 - val_loss: 0.6026\n",
      "Epoch 4/20\n",
      "\u001b[1m191/191\u001b[0m \u001b[32m━━━━━━━━━━━━━━━━━━━━\u001b[0m\u001b[37m\u001b[0m \u001b[1m1s\u001b[0m 5ms/step - accuracy: 0.6997 - loss: 0.5840 - val_accuracy: 0.7649 - val_loss: 0.5222\n",
      "Epoch 5/20\n",
      "\u001b[1m191/191\u001b[0m \u001b[32m━━━━━━━━━━━━━━━━━━━━\u001b[0m\u001b[37m\u001b[0m \u001b[1m1s\u001b[0m 5ms/step - accuracy: 0.7747 - loss: 0.4983 - val_accuracy: 0.7886 - val_loss: 0.4575\n",
      "Epoch 6/20\n",
      "\u001b[1m191/191\u001b[0m \u001b[32m━━━━━━━━━━━━━━━━━━━━\u001b[0m\u001b[37m\u001b[0m \u001b[1m1s\u001b[0m 5ms/step - accuracy: 0.7951 - loss: 0.4588 - val_accuracy: 0.7971 - val_loss: 0.4450\n",
      "Epoch 7/20\n",
      "\u001b[1m191/191\u001b[0m \u001b[32m━━━━━━━━━━━━━━━━━━━━\u001b[0m\u001b[37m\u001b[0m \u001b[1m1s\u001b[0m 5ms/step - accuracy: 0.8049 - loss: 0.4396 - val_accuracy: 0.8043 - val_loss: 0.4366\n",
      "Epoch 8/20\n",
      "\u001b[1m191/191\u001b[0m \u001b[32m━━━━━━━━━━━━━━━━━━━━\u001b[0m\u001b[37m\u001b[0m \u001b[1m1s\u001b[0m 6ms/step - accuracy: 0.7980 - loss: 0.4362 - val_accuracy: 0.8096 - val_loss: 0.4317\n",
      "Epoch 9/20\n",
      "\u001b[1m191/191\u001b[0m \u001b[32m━━━━━━━━━━━━━━━━━━━━\u001b[0m\u001b[37m\u001b[0m \u001b[1m1s\u001b[0m 6ms/step - accuracy: 0.8016 - loss: 0.4318 - val_accuracy: 0.8116 - val_loss: 0.4294\n",
      "Epoch 10/20\n",
      "\u001b[1m191/191\u001b[0m \u001b[32m━━━━━━━━━━━━━━━━━━━━\u001b[0m\u001b[37m\u001b[0m \u001b[1m1s\u001b[0m 6ms/step - accuracy: 0.8071 - loss: 0.4301 - val_accuracy: 0.8109 - val_loss: 0.4273\n",
      "Epoch 11/20\n",
      "\u001b[1m191/191\u001b[0m \u001b[32m━━━━━━━━━━━━━━━━━━━━\u001b[0m\u001b[37m\u001b[0m \u001b[1m1s\u001b[0m 5ms/step - accuracy: 0.8078 - loss: 0.4281 - val_accuracy: 0.8135 - val_loss: 0.4248\n",
      "Epoch 12/20\n",
      "\u001b[1m191/191\u001b[0m \u001b[32m━━━━━━━━━━━━━━━━━━━━\u001b[0m\u001b[37m\u001b[0m \u001b[1m1s\u001b[0m 6ms/step - accuracy: 0.8151 - loss: 0.4168 - val_accuracy: 0.8142 - val_loss: 0.4226\n",
      "Epoch 13/20\n",
      "\u001b[1m191/191\u001b[0m \u001b[32m━━━━━━━━━━━━━━━━━━━━\u001b[0m\u001b[37m\u001b[0m \u001b[1m1s\u001b[0m 6ms/step - accuracy: 0.8150 - loss: 0.4150 - val_accuracy: 0.8109 - val_loss: 0.4212\n",
      "Epoch 14/20\n",
      "\u001b[1m191/191\u001b[0m \u001b[32m━━━━━━━━━━━━━━━━━━━━\u001b[0m\u001b[37m\u001b[0m \u001b[1m1s\u001b[0m 5ms/step - accuracy: 0.8202 - loss: 0.4078 - val_accuracy: 0.8102 - val_loss: 0.4215\n",
      "Epoch 15/20\n",
      "\u001b[1m191/191\u001b[0m \u001b[32m━━━━━━━━━━━━━━━━━━━━\u001b[0m\u001b[37m\u001b[0m \u001b[1m1s\u001b[0m 6ms/step - accuracy: 0.8240 - loss: 0.4070 - val_accuracy: 0.8142 - val_loss: 0.4201\n",
      "Epoch 16/20\n",
      "\u001b[1m191/191\u001b[0m \u001b[32m━━━━━━━━━━━━━━━━━━━━\u001b[0m\u001b[37m\u001b[0m \u001b[1m1s\u001b[0m 5ms/step - accuracy: 0.8212 - loss: 0.4072 - val_accuracy: 0.8070 - val_loss: 0.4222\n",
      "Epoch 17/20\n",
      "\u001b[1m191/191\u001b[0m \u001b[32m━━━━━━━━━━━━━━━━━━━━\u001b[0m\u001b[37m\u001b[0m \u001b[1m1s\u001b[0m 6ms/step - accuracy: 0.8206 - loss: 0.4089 - val_accuracy: 0.8155 - val_loss: 0.4193\n",
      "Epoch 18/20\n",
      "\u001b[1m191/191\u001b[0m \u001b[32m━━━━━━━━━━━━━━━━━━━━\u001b[0m\u001b[37m\u001b[0m \u001b[1m1s\u001b[0m 5ms/step - accuracy: 0.8297 - loss: 0.4033 - val_accuracy: 0.8148 - val_loss: 0.4198\n",
      "Epoch 19/20\n",
      "\u001b[1m191/191\u001b[0m \u001b[32m━━━━━━━━━━━━━━━━━━━━\u001b[0m\u001b[37m\u001b[0m \u001b[1m1s\u001b[0m 5ms/step - accuracy: 0.8317 - loss: 0.3984 - val_accuracy: 0.8142 - val_loss: 0.4181\n",
      "Epoch 20/20\n",
      "\u001b[1m191/191\u001b[0m \u001b[32m━━━━━━━━━━━━━━━━━━━━\u001b[0m\u001b[37m\u001b[0m \u001b[1m1s\u001b[0m 5ms/step - accuracy: 0.8257 - loss: 0.3933 - val_accuracy: 0.8083 - val_loss: 0.4205\n",
      "\u001b[1m48/48\u001b[0m \u001b[32m━━━━━━━━━━━━━━━━━━━━\u001b[0m\u001b[37m\u001b[0m \u001b[1m0s\u001b[0m 2ms/step - accuracy: 0.8160 - loss: 0.4276\n",
      "Test Accuracy: 0.8142\n",
      "Epoch 1/20\n",
      "\u001b[1m191/191\u001b[0m \u001b[32m━━━━━━━━━━━━━━━━━━━━\u001b[0m\u001b[37m\u001b[0m \u001b[1m2s\u001b[0m 6ms/step - accuracy: 0.5574 - loss: 0.6852 - val_accuracy: 0.6343 - val_loss: 0.6581\n",
      "Epoch 2/20\n",
      "\u001b[1m191/191\u001b[0m \u001b[32m━━━━━━━━━━━━━━━━━━━━\u001b[0m\u001b[37m\u001b[0m \u001b[1m1s\u001b[0m 5ms/step - accuracy: 0.5984 - loss: 0.6592 - val_accuracy: 0.6238 - val_loss: 0.6434\n",
      "Epoch 3/20\n",
      "\u001b[1m191/191\u001b[0m \u001b[32m━━━━━━━━━━━━━━━━━━━━\u001b[0m\u001b[37m\u001b[0m \u001b[1m1s\u001b[0m 6ms/step - accuracy: 0.6443 - loss: 0.6389 - val_accuracy: 0.6356 - val_loss: 0.6328\n",
      "Epoch 4/20\n",
      "\u001b[1m191/191\u001b[0m \u001b[32m━━━━━━━━━━━━━━━━━━━━\u001b[0m\u001b[37m\u001b[0m \u001b[1m1s\u001b[0m 5ms/step - accuracy: 0.6459 - loss: 0.6335 - val_accuracy: 0.6546 - val_loss: 0.6191\n",
      "Epoch 5/20\n",
      "\u001b[1m191/191\u001b[0m \u001b[32m━━━━━━━━━━━━━━━━━━━━\u001b[0m\u001b[37m\u001b[0m \u001b[1m1s\u001b[0m 5ms/step - accuracy: 0.6832 - loss: 0.6046 - val_accuracy: 0.7170 - val_loss: 0.5809\n",
      "Epoch 6/20\n",
      "\u001b[1m191/191\u001b[0m \u001b[32m━━━━━━━━━━━━━━━━━━━━\u001b[0m\u001b[37m\u001b[0m \u001b[1m1s\u001b[0m 5ms/step - accuracy: 0.7298 - loss: 0.5653 - val_accuracy: 0.7886 - val_loss: 0.4862\n",
      "Epoch 7/20\n",
      "\u001b[1m191/191\u001b[0m \u001b[32m━━━━━━━━━━━━━━━━━━━━\u001b[0m\u001b[37m\u001b[0m \u001b[1m1s\u001b[0m 6ms/step - accuracy: 0.7885 - loss: 0.4824 - val_accuracy: 0.8043 - val_loss: 0.4493\n",
      "Epoch 8/20\n",
      "\u001b[1m191/191\u001b[0m \u001b[32m━━━━━━━━━━━━━━━━━━━━\u001b[0m\u001b[37m\u001b[0m \u001b[1m1s\u001b[0m 5ms/step - accuracy: 0.8017 - loss: 0.4555 - val_accuracy: 0.8116 - val_loss: 0.4399\n",
      "Epoch 9/20\n",
      "\u001b[1m191/191\u001b[0m \u001b[32m━━━━━━━━━━━━━━━━━━━━\u001b[0m\u001b[37m\u001b[0m \u001b[1m1s\u001b[0m 5ms/step - accuracy: 0.7978 - loss: 0.4451 - val_accuracy: 0.8122 - val_loss: 0.4310\n",
      "Epoch 10/20\n",
      "\u001b[1m191/191\u001b[0m \u001b[32m━━━━━━━━━━━━━━━━━━━━\u001b[0m\u001b[37m\u001b[0m \u001b[1m1s\u001b[0m 5ms/step - accuracy: 0.8022 - loss: 0.4378 - val_accuracy: 0.8155 - val_loss: 0.4277\n",
      "Epoch 11/20\n",
      "\u001b[1m191/191\u001b[0m \u001b[32m━━━━━━━━━━━━━━━━━━━━\u001b[0m\u001b[37m\u001b[0m \u001b[1m1s\u001b[0m 5ms/step - accuracy: 0.8092 - loss: 0.4334 - val_accuracy: 0.8168 - val_loss: 0.4247\n",
      "Epoch 12/20\n",
      "\u001b[1m191/191\u001b[0m \u001b[32m━━━━━━━━━━━━━━━━━━━━\u001b[0m\u001b[37m\u001b[0m \u001b[1m1s\u001b[0m 5ms/step - accuracy: 0.8155 - loss: 0.4222 - val_accuracy: 0.8162 - val_loss: 0.4222\n",
      "Epoch 13/20\n",
      "\u001b[1m191/191\u001b[0m \u001b[32m━━━━━━━━━━━━━━━━━━━━\u001b[0m\u001b[37m\u001b[0m \u001b[1m1s\u001b[0m 5ms/step - accuracy: 0.8096 - loss: 0.4188 - val_accuracy: 0.8207 - val_loss: 0.4202\n",
      "Epoch 14/20\n",
      "\u001b[1m191/191\u001b[0m \u001b[32m━━━━━━━━━━━━━━━━━━━━\u001b[0m\u001b[37m\u001b[0m \u001b[1m1s\u001b[0m 5ms/step - accuracy: 0.8096 - loss: 0.4176 - val_accuracy: 0.8207 - val_loss: 0.4191\n",
      "Epoch 15/20\n",
      "\u001b[1m191/191\u001b[0m \u001b[32m━━━━━━━━━━━━━━━━━━━━\u001b[0m\u001b[37m\u001b[0m \u001b[1m1s\u001b[0m 5ms/step - accuracy: 0.8132 - loss: 0.4252 - val_accuracy: 0.8240 - val_loss: 0.4184\n",
      "Epoch 16/20\n",
      "\u001b[1m191/191\u001b[0m \u001b[32m━━━━━━━━━━━━━━━━━━━━\u001b[0m\u001b[37m\u001b[0m \u001b[1m1s\u001b[0m 5ms/step - accuracy: 0.8237 - loss: 0.4063 - val_accuracy: 0.8162 - val_loss: 0.4186\n",
      "Epoch 17/20\n",
      "\u001b[1m191/191\u001b[0m \u001b[32m━━━━━━━━━━━━━━━━━━━━\u001b[0m\u001b[37m\u001b[0m \u001b[1m1s\u001b[0m 5ms/step - accuracy: 0.8241 - loss: 0.4073 - val_accuracy: 0.8286 - val_loss: 0.4195\n",
      "Epoch 18/20\n",
      "\u001b[1m191/191\u001b[0m \u001b[32m━━━━━━━━━━━━━━━━━━━━\u001b[0m\u001b[37m\u001b[0m \u001b[1m1s\u001b[0m 6ms/step - accuracy: 0.8151 - loss: 0.4067 - val_accuracy: 0.8234 - val_loss: 0.4161\n",
      "Epoch 19/20\n",
      "\u001b[1m191/191\u001b[0m \u001b[32m━━━━━━━━━━━━━━━━━━━━\u001b[0m\u001b[37m\u001b[0m \u001b[1m1s\u001b[0m 5ms/step - accuracy: 0.8181 - loss: 0.4099 - val_accuracy: 0.8267 - val_loss: 0.4162\n",
      "Epoch 20/20\n",
      "\u001b[1m191/191\u001b[0m \u001b[32m━━━━━━━━━━━━━━━━━━━━\u001b[0m\u001b[37m\u001b[0m \u001b[1m1s\u001b[0m 5ms/step - accuracy: 0.8194 - loss: 0.4178 - val_accuracy: 0.8260 - val_loss: 0.4160\n",
      "\u001b[1m48/48\u001b[0m \u001b[32m━━━━━━━━━━━━━━━━━━━━\u001b[0m\u001b[37m\u001b[0m \u001b[1m0s\u001b[0m 2ms/step - accuracy: 0.8260 - loss: 0.4217\n",
      "Test Accuracy: 0.8260\n"
     ]
    }
   ],
   "source": [
    "histories, best_accuracy, best_model = train_multiple_models(models)"
   ]
  },
  {
   "cell_type": "code",
   "execution_count": 27,
   "id": "bcc7bf07",
   "metadata": {
    "execution": {
     "iopub.execute_input": "2025-02-04T20:05:55.534074Z",
     "iopub.status.busy": "2025-02-04T20:05:55.533761Z",
     "iopub.status.idle": "2025-02-04T20:05:55.538001Z",
     "shell.execute_reply": "2025-02-04T20:05:55.537131Z"
    },
    "papermill": {
     "duration": 0.084715,
     "end_time": "2025-02-04T20:05:55.539250",
     "exception": false,
     "start_time": "2025-02-04T20:05:55.454535",
     "status": "completed"
    },
    "tags": []
   },
   "outputs": [
    {
     "name": "stdout",
     "output_type": "stream",
     "text": [
      "0.8260012865066528\n"
     ]
    }
   ],
   "source": [
    "print(best_accuracy)"
   ]
  },
  {
   "cell_type": "code",
   "execution_count": 28,
   "id": "6bd136f6",
   "metadata": {
    "execution": {
     "iopub.execute_input": "2025-02-04T20:05:55.694074Z",
     "iopub.status.busy": "2025-02-04T20:05:55.693817Z",
     "iopub.status.idle": "2025-02-04T20:05:56.041532Z",
     "shell.execute_reply": "2025-02-04T20:05:56.040635Z"
    },
    "papermill": {
     "duration": 0.426615,
     "end_time": "2025-02-04T20:05:56.042907",
     "exception": false,
     "start_time": "2025-02-04T20:05:55.616292",
     "status": "completed"
    },
    "tags": []
   },
   "outputs": [
    {
     "data": {
      "image/png": "[encoded data removed]",
      "text/plain": [
       "<Figure size 640x480 with 1 Axes>"
      ]
     },
     "metadata": {},
     "output_type": "display_data"
    },
    {
     "data": {
      "image/png": "[encoded data removed]",
      "text/plain": [
       "<Figure size 640x480 with 1 Axes>"
      ]
     },
     "metadata": {},
     "output_type": "display_data"
    }
   ],
   "source": [
    "plot_histories(histories)"
   ]
  },
  {
   "cell_type": "markdown",
   "id": "6346bf7c",
   "metadata": {
    "papermill": {
     "duration": 0.078553,
     "end_time": "2025-02-04T20:05:56.202086",
     "exception": false,
     "start_time": "2025-02-04T20:05:56.123533",
     "status": "completed"
    },
    "tags": []
   },
   "source": [
    "The results are much better when using word2vec! Let's attempt to scale up the model"
   ]
  },
  {
   "cell_type": "code",
   "execution_count": 29,
   "id": "90221398",
   "metadata": {
    "execution": {
     "iopub.execute_input": "2025-02-04T20:05:56.361323Z",
     "iopub.status.busy": "2025-02-04T20:05:56.361027Z",
     "iopub.status.idle": "2025-02-04T20:05:56.477996Z",
     "shell.execute_reply": "2025-02-04T20:05:56.477105Z"
    },
    "papermill": {
     "duration": 0.198885,
     "end_time": "2025-02-04T20:05:56.479412",
     "exception": false,
     "start_time": "2025-02-04T20:05:56.280527",
     "status": "completed"
    },
    "tags": []
   },
   "outputs": [],
   "source": [
    "models = [\n",
    "    build_word2vec_model(128, 0.5, 1e-5),\n",
    "    build_word2vec_model(512, 0.5, 1e-5),\n",
    "    build_word2vec_model(1024, 0.5, 1e-5),\n",
    "]\n",
    "\n",
    "checkpoint_cb = [keras.callbacks.ModelCheckpoint(f\"tweeter_model_{n}.keras\", save_best_only=True) for n in range(len(models))]\n",
    "\n",
    "early_stopping_cb = [keras.callbacks.EarlyStopping(\n",
    "    patience=3, restore_best_weights=True\n",
    ") for n in range(len(models))]\n"
   ]
  },
  {
   "cell_type": "code",
   "execution_count": 30,
   "id": "625f36c4",
   "metadata": {
    "execution": {
     "iopub.execute_input": "2025-02-04T20:05:56.637286Z",
     "iopub.status.busy": "2025-02-04T20:05:56.637002Z",
     "iopub.status.idle": "2025-02-04T20:07:44.945677Z",
     "shell.execute_reply": "2025-02-04T20:07:44.944798Z"
    },
    "papermill": {
     "duration": 108.389013,
     "end_time": "2025-02-04T20:07:44.947046",
     "exception": false,
     "start_time": "2025-02-04T20:05:56.558033",
     "status": "completed"
    },
    "tags": []
   },
   "outputs": [
    {
     "name": "stdout",
     "output_type": "stream",
     "text": [
      "Epoch 1/20\n",
      "\u001b[1m191/191\u001b[0m \u001b[32m━━━━━━━━━━━━━━━━━━━━\u001b[0m\u001b[37m\u001b[0m \u001b[1m3s\u001b[0m 7ms/step - accuracy: 0.5390 - loss: 0.6894 - val_accuracy: 0.5962 - val_loss: 0.6784\n",
      "Epoch 2/20\n",
      "\u001b[1m191/191\u001b[0m \u001b[32m━━━━━━━━━━━━━━━━━━━━\u001b[0m\u001b[37m\u001b[0m \u001b[1m1s\u001b[0m 5ms/step - accuracy: 0.5896 - loss: 0.6758 - val_accuracy: 0.6303 - val_loss: 0.6679\n",
      "Epoch 3/20\n",
      "\u001b[1m191/191\u001b[0m \u001b[32m━━━━━━━━━━━━━━━━━━━━\u001b[0m\u001b[37m\u001b[0m \u001b[1m1s\u001b[0m 6ms/step - accuracy: 0.6142 - loss: 0.6680 - val_accuracy: 0.6336 - val_loss: 0.6595\n",
      "Epoch 4/20\n",
      "\u001b[1m191/191\u001b[0m \u001b[32m━━━━━━━━━━━━━━━━━━━━\u001b[0m\u001b[37m\u001b[0m \u001b[1m1s\u001b[0m 6ms/step - accuracy: 0.6321 - loss: 0.6567 - val_accuracy: 0.6310 - val_loss: 0.6529\n",
      "Epoch 5/20\n",
      "\u001b[1m191/191\u001b[0m \u001b[32m━━━━━━━━━━━━━━━━━━━━\u001b[0m\u001b[37m\u001b[0m \u001b[1m1s\u001b[0m 5ms/step - accuracy: 0.6302 - loss: 0.6503 - val_accuracy: 0.6349 - val_loss: 0.6475\n",
      "Epoch 6/20\n",
      "\u001b[1m191/191\u001b[0m \u001b[32m━━━━━━━━━━━━━━━━━━━━\u001b[0m\u001b[37m\u001b[0m \u001b[1m1s\u001b[0m 6ms/step - accuracy: 0.6418 - loss: 0.6456 - val_accuracy: 0.6349 - val_loss: 0.6428\n",
      "Epoch 7/20\n",
      "\u001b[1m191/191\u001b[0m \u001b[32m━━━━━━━━━━━━━━━━━━━━\u001b[0m\u001b[37m\u001b[0m \u001b[1m1s\u001b[0m 6ms/step - accuracy: 0.6263 - loss: 0.6456 - val_accuracy: 0.6395 - val_loss: 0.6387\n",
      "Epoch 8/20\n",
      "\u001b[1m191/191\u001b[0m \u001b[32m━━━━━━━━━━━━━━━━━━━━\u001b[0m\u001b[37m\u001b[0m \u001b[1m1s\u001b[0m 5ms/step - accuracy: 0.6479 - loss: 0.6303 - val_accuracy: 0.6389 - val_loss: 0.6346\n",
      "Epoch 9/20\n",
      "\u001b[1m191/191\u001b[0m \u001b[32m━━━━━━━━━━━━━━━━━━━━\u001b[0m\u001b[37m\u001b[0m \u001b[1m1s\u001b[0m 6ms/step - accuracy: 0.6474 - loss: 0.6336 - val_accuracy: 0.6402 - val_loss: 0.6305\n",
      "Epoch 10/20\n",
      "\u001b[1m191/191\u001b[0m \u001b[32m━━━━━━━━━━━━━━━━━━━━\u001b[0m\u001b[37m\u001b[0m \u001b[1m1s\u001b[0m 5ms/step - accuracy: 0.6559 - loss: 0.6284 - val_accuracy: 0.6507 - val_loss: 0.6254\n",
      "Epoch 11/20\n",
      "\u001b[1m191/191\u001b[0m \u001b[32m━━━━━━━━━━━━━━━━━━━━\u001b[0m\u001b[37m\u001b[0m \u001b[1m1s\u001b[0m 6ms/step - accuracy: 0.6587 - loss: 0.6234 - val_accuracy: 0.6566 - val_loss: 0.6194\n",
      "Epoch 12/20\n",
      "\u001b[1m191/191\u001b[0m \u001b[32m━━━━━━━━━━━━━━━━━━━━\u001b[0m\u001b[37m\u001b[0m \u001b[1m1s\u001b[0m 6ms/step - accuracy: 0.6735 - loss: 0.6102 - val_accuracy: 0.6612 - val_loss: 0.6113\n",
      "Epoch 13/20\n",
      "\u001b[1m191/191\u001b[0m \u001b[32m━━━━━━━━━━━━━━━━━━━━\u001b[0m\u001b[37m\u001b[0m \u001b[1m1s\u001b[0m 5ms/step - accuracy: 0.6688 - loss: 0.6100 - val_accuracy: 0.6835 - val_loss: 0.5995\n",
      "Epoch 14/20\n",
      "\u001b[1m191/191\u001b[0m \u001b[32m━━━━━━━━━━━━━━━━━━━━\u001b[0m\u001b[37m\u001b[0m \u001b[1m1s\u001b[0m 6ms/step - accuracy: 0.6917 - loss: 0.5912 - val_accuracy: 0.7144 - val_loss: 0.5816\n",
      "Epoch 15/20\n",
      "\u001b[1m191/191\u001b[0m \u001b[32m━━━━━━━━━━━━━━━━━━━━\u001b[0m\u001b[37m\u001b[0m \u001b[1m1s\u001b[0m 6ms/step - accuracy: 0.7139 - loss: 0.5697 - val_accuracy: 0.7374 - val_loss: 0.5555\n",
      "Epoch 16/20\n",
      "\u001b[1m191/191\u001b[0m \u001b[32m━━━━━━━━━━━━━━━━━━━━\u001b[0m\u001b[37m\u001b[0m \u001b[1m1s\u001b[0m 5ms/step - accuracy: 0.7462 - loss: 0.5410 - val_accuracy: 0.7649 - val_loss: 0.5225\n",
      "Epoch 17/20\n",
      "\u001b[1m191/191\u001b[0m \u001b[32m━━━━━━━━━━━━━━━━━━━━\u001b[0m\u001b[37m\u001b[0m \u001b[1m1s\u001b[0m 6ms/step - accuracy: 0.7706 - loss: 0.5051 - val_accuracy: 0.7879 - val_loss: 0.4925\n",
      "Epoch 18/20\n",
      "\u001b[1m191/191\u001b[0m \u001b[32m━━━━━━━━━━━━━━━━━━━━\u001b[0m\u001b[37m\u001b[0m \u001b[1m1s\u001b[0m 6ms/step - accuracy: 0.7874 - loss: 0.4903 - val_accuracy: 0.7991 - val_loss: 0.4723\n",
      "Epoch 19/20\n",
      "\u001b[1m191/191\u001b[0m \u001b[32m━━━━━━━━━━━━━━━━━━━━\u001b[0m\u001b[37m\u001b[0m \u001b[1m1s\u001b[0m 6ms/step - accuracy: 0.7968 - loss: 0.4689 - val_accuracy: 0.7991 - val_loss: 0.4623\n",
      "Epoch 20/20\n",
      "\u001b[1m191/191\u001b[0m \u001b[32m━━━━━━━━━━━━━━━━━━━━\u001b[0m\u001b[37m\u001b[0m \u001b[1m1s\u001b[0m 6ms/step - accuracy: 0.7943 - loss: 0.4623 - val_accuracy: 0.8043 - val_loss: 0.4570\n",
      "\u001b[1m48/48\u001b[0m \u001b[32m━━━━━━━━━━━━━━━━━━━━\u001b[0m\u001b[37m\u001b[0m \u001b[1m0s\u001b[0m 2ms/step - accuracy: 0.7996 - loss: 0.4618\n",
      "Test Accuracy: 0.8043\n",
      "Epoch 1/20\n",
      "\u001b[1m191/191\u001b[0m \u001b[32m━━━━━━━━━━━━━━━━━━━━\u001b[0m\u001b[37m\u001b[0m \u001b[1m3s\u001b[0m 9ms/step - accuracy: 0.6051 - loss: 0.6775 - val_accuracy: 0.6323 - val_loss: 0.6576\n",
      "Epoch 2/20\n",
      "\u001b[1m191/191\u001b[0m \u001b[32m━━━━━━━━━━━━━━━━━━━━\u001b[0m\u001b[37m\u001b[0m \u001b[1m2s\u001b[0m 8ms/step - accuracy: 0.6354 - loss: 0.6538 - val_accuracy: 0.6435 - val_loss: 0.6380\n",
      "Epoch 3/20\n",
      "\u001b[1m191/191\u001b[0m \u001b[32m━━━━━━━━━━━━━━━━━━━━\u001b[0m\u001b[37m\u001b[0m \u001b[1m2s\u001b[0m 8ms/step - accuracy: 0.6514 - loss: 0.6357 - val_accuracy: 0.6619 - val_loss: 0.6163\n",
      "Epoch 4/20\n",
      "\u001b[1m191/191\u001b[0m \u001b[32m━━━━━━━━━━━━━━━━━━━━\u001b[0m\u001b[37m\u001b[0m \u001b[1m1s\u001b[0m 8ms/step - accuracy: 0.6909 - loss: 0.5994 - val_accuracy: 0.7367 - val_loss: 0.5634\n",
      "Epoch 5/20\n",
      "\u001b[1m191/191\u001b[0m \u001b[32m━━━━━━━━━━━━━━━━━━━━\u001b[0m\u001b[37m\u001b[0m \u001b[1m2s\u001b[0m 8ms/step - accuracy: 0.7440 - loss: 0.5430 - val_accuracy: 0.7965 - val_loss: 0.4751\n",
      "Epoch 6/20\n",
      "\u001b[1m191/191\u001b[0m \u001b[32m━━━━━━━━━━━━━━━━━━━━\u001b[0m\u001b[37m\u001b[0m \u001b[1m1s\u001b[0m 8ms/step - accuracy: 0.7987 - loss: 0.4621 - val_accuracy: 0.8056 - val_loss: 0.4519\n",
      "Epoch 7/20\n",
      "\u001b[1m191/191\u001b[0m \u001b[32m━━━━━━━━━━━━━━━━━━━━\u001b[0m\u001b[37m\u001b[0m \u001b[1m2s\u001b[0m 8ms/step - accuracy: 0.8058 - loss: 0.4379 - val_accuracy: 0.8096 - val_loss: 0.4456\n",
      "Epoch 8/20\n",
      "\u001b[1m191/191\u001b[0m \u001b[32m━━━━━━━━━━━━━━━━━━━━\u001b[0m\u001b[37m\u001b[0m \u001b[1m2s\u001b[0m 8ms/step - accuracy: 0.8090 - loss: 0.4358 - val_accuracy: 0.8076 - val_loss: 0.4413\n",
      "Epoch 9/20\n",
      "\u001b[1m191/191\u001b[0m \u001b[32m━━━━━━━━━━━━━━━━━━━━\u001b[0m\u001b[37m\u001b[0m \u001b[1m1s\u001b[0m 8ms/step - accuracy: 0.8054 - loss: 0.4472 - val_accuracy: 0.8142 - val_loss: 0.4365\n",
      "Epoch 10/20\n",
      "\u001b[1m191/191\u001b[0m \u001b[32m━━━━━━━━━━━━━━━━━━━━\u001b[0m\u001b[37m\u001b[0m \u001b[1m1s\u001b[0m 8ms/step - accuracy: 0.8119 - loss: 0.4333 - val_accuracy: 0.8168 - val_loss: 0.4342\n",
      "Epoch 11/20\n",
      "\u001b[1m191/191\u001b[0m \u001b[32m━━━━━━━━━━━━━━━━━━━━\u001b[0m\u001b[37m\u001b[0m \u001b[1m1s\u001b[0m 8ms/step - accuracy: 0.8014 - loss: 0.4340 - val_accuracy: 0.8175 - val_loss: 0.4310\n",
      "Epoch 12/20\n",
      "\u001b[1m191/191\u001b[0m \u001b[32m━━━━━━━━━━━━━━━━━━━━\u001b[0m\u001b[37m\u001b[0m \u001b[1m1s\u001b[0m 8ms/step - accuracy: 0.8145 - loss: 0.4254 - val_accuracy: 0.8201 - val_loss: 0.4299\n",
      "Epoch 13/20\n",
      "\u001b[1m191/191\u001b[0m \u001b[32m━━━━━━━━━━━━━━━━━━━━\u001b[0m\u001b[37m\u001b[0m \u001b[1m1s\u001b[0m 8ms/step - accuracy: 0.8066 - loss: 0.4286 - val_accuracy: 0.8194 - val_loss: 0.4280\n",
      "Epoch 14/20\n",
      "\u001b[1m191/191\u001b[0m \u001b[32m━━━━━━━━━━━━━━━━━━━━\u001b[0m\u001b[37m\u001b[0m \u001b[1m1s\u001b[0m 8ms/step - accuracy: 0.8185 - loss: 0.4129 - val_accuracy: 0.8135 - val_loss: 0.4270\n",
      "Epoch 15/20\n",
      "\u001b[1m191/191\u001b[0m \u001b[32m━━━━━━━━━━━━━━━━━━━━\u001b[0m\u001b[37m\u001b[0m \u001b[1m2s\u001b[0m 8ms/step - accuracy: 0.8260 - loss: 0.4077 - val_accuracy: 0.8207 - val_loss: 0.4253\n",
      "Epoch 16/20\n",
      "\u001b[1m191/191\u001b[0m \u001b[32m━━━━━━━━━━━━━━━━━━━━\u001b[0m\u001b[37m\u001b[0m \u001b[1m2s\u001b[0m 8ms/step - accuracy: 0.8209 - loss: 0.4076 - val_accuracy: 0.8207 - val_loss: 0.4244\n",
      "Epoch 17/20\n",
      "\u001b[1m191/191\u001b[0m \u001b[32m━━━━━━━━━━━━━━━━━━━━\u001b[0m\u001b[37m\u001b[0m \u001b[1m1s\u001b[0m 7ms/step - accuracy: 0.8263 - loss: 0.4101 - val_accuracy: 0.8148 - val_loss: 0.4259\n",
      "Epoch 18/20\n",
      "\u001b[1m191/191\u001b[0m \u001b[32m━━━━━━━━━━━━━━━━━━━━\u001b[0m\u001b[37m\u001b[0m \u001b[1m1s\u001b[0m 7ms/step - accuracy: 0.8211 - loss: 0.4018 - val_accuracy: 0.8221 - val_loss: 0.4248\n",
      "Epoch 19/20\n",
      "\u001b[1m191/191\u001b[0m \u001b[32m━━━━━━━━━━━━━━━━━━━━\u001b[0m\u001b[37m\u001b[0m \u001b[1m2s\u001b[0m 8ms/step - accuracy: 0.8296 - loss: 0.4031 - val_accuracy: 0.8194 - val_loss: 0.4239\n",
      "Epoch 20/20\n",
      "\u001b[1m191/191\u001b[0m \u001b[32m━━━━━━━━━━━━━━━━━━━━\u001b[0m\u001b[37m\u001b[0m \u001b[1m1s\u001b[0m 7ms/step - accuracy: 0.8245 - loss: 0.4114 - val_accuracy: 0.8168 - val_loss: 0.4242\n",
      "\u001b[1m48/48\u001b[0m \u001b[32m━━━━━━━━━━━━━━━━━━━━\u001b[0m\u001b[37m\u001b[0m \u001b[1m0s\u001b[0m 3ms/step - accuracy: 0.8299 - loss: 0.4333\n",
      "Test Accuracy: 0.8194\n",
      "Epoch 1/20\n",
      "\u001b[1m191/191\u001b[0m \u001b[32m━━━━━━━━━━━━━━━━━━━━\u001b[0m\u001b[37m\u001b[0m \u001b[1m5s\u001b[0m 15ms/step - accuracy: 0.6030 - loss: 0.6768 - val_accuracy: 0.6389 - val_loss: 0.6478\n",
      "Epoch 2/20\n",
      "\u001b[1m191/191\u001b[0m \u001b[32m━━━━━━━━━━━━━━━━━━━━\u001b[0m\u001b[37m\u001b[0m \u001b[1m3s\u001b[0m 14ms/step - accuracy: 0.6579 - loss: 0.6361 - val_accuracy: 0.6999 - val_loss: 0.5946\n",
      "Epoch 3/20\n",
      "\u001b[1m191/191\u001b[0m \u001b[32m━━━━━━━━━━━━━━━━━━━━\u001b[0m\u001b[37m\u001b[0m \u001b[1m3s\u001b[0m 14ms/step - accuracy: 0.7369 - loss: 0.5474 - val_accuracy: 0.7991 - val_loss: 0.4720\n",
      "Epoch 4/20\n",
      "\u001b[1m191/191\u001b[0m \u001b[32m━━━━━━━━━━━━━━━━━━━━\u001b[0m\u001b[37m\u001b[0m \u001b[1m3s\u001b[0m 14ms/step - accuracy: 0.7961 - loss: 0.4703 - val_accuracy: 0.8070 - val_loss: 0.4484\n",
      "Epoch 5/20\n",
      "\u001b[1m191/191\u001b[0m \u001b[32m━━━━━━━━━━━━━━━━━━━━\u001b[0m\u001b[37m\u001b[0m \u001b[1m3s\u001b[0m 14ms/step - accuracy: 0.7961 - loss: 0.4479 - val_accuracy: 0.8102 - val_loss: 0.4394\n",
      "Epoch 6/20\n",
      "\u001b[1m191/191\u001b[0m \u001b[32m━━━━━━━━━━━━━━━━━━━━\u001b[0m\u001b[37m\u001b[0m \u001b[1m3s\u001b[0m 14ms/step - accuracy: 0.8115 - loss: 0.4353 - val_accuracy: 0.8122 - val_loss: 0.4347\n",
      "Epoch 7/20\n",
      "\u001b[1m191/191\u001b[0m \u001b[32m━━━━━━━━━━━━━━━━━━━━\u001b[0m\u001b[37m\u001b[0m \u001b[1m3s\u001b[0m 14ms/step - accuracy: 0.8052 - loss: 0.4286 - val_accuracy: 0.8155 - val_loss: 0.4300\n",
      "Epoch 8/20\n",
      "\u001b[1m191/191\u001b[0m \u001b[32m━━━━━━━━━━━━━━━━━━━━\u001b[0m\u001b[37m\u001b[0m \u001b[1m3s\u001b[0m 14ms/step - accuracy: 0.8186 - loss: 0.4200 - val_accuracy: 0.8168 - val_loss: 0.4278\n",
      "Epoch 9/20\n",
      "\u001b[1m191/191\u001b[0m \u001b[32m━━━━━━━━━━━━━━━━━━━━\u001b[0m\u001b[37m\u001b[0m \u001b[1m3s\u001b[0m 14ms/step - accuracy: 0.8069 - loss: 0.4308 - val_accuracy: 0.8155 - val_loss: 0.4250\n",
      "Epoch 10/20\n",
      "\u001b[1m191/191\u001b[0m \u001b[32m━━━━━━━━━━━━━━━━━━━━\u001b[0m\u001b[37m\u001b[0m \u001b[1m3s\u001b[0m 14ms/step - accuracy: 0.8227 - loss: 0.4105 - val_accuracy: 0.8168 - val_loss: 0.4245\n",
      "Epoch 11/20\n",
      "\u001b[1m191/191\u001b[0m \u001b[32m━━━━━━━━━━━━━━━━━━━━\u001b[0m\u001b[37m\u001b[0m \u001b[1m3s\u001b[0m 14ms/step - accuracy: 0.8226 - loss: 0.4135 - val_accuracy: 0.8201 - val_loss: 0.4236\n",
      "Epoch 12/20\n",
      "\u001b[1m191/191\u001b[0m \u001b[32m━━━━━━━━━━━━━━━━━━━━\u001b[0m\u001b[37m\u001b[0m \u001b[1m2s\u001b[0m 12ms/step - accuracy: 0.8276 - loss: 0.4082 - val_accuracy: 0.8168 - val_loss: 0.4237\n",
      "Epoch 13/20\n",
      "\u001b[1m191/191\u001b[0m \u001b[32m━━━━━━━━━━━━━━━━━━━━\u001b[0m\u001b[37m\u001b[0m \u001b[1m3s\u001b[0m 14ms/step - accuracy: 0.8266 - loss: 0.4085 - val_accuracy: 0.8260 - val_loss: 0.4216\n",
      "Epoch 14/20\n",
      "\u001b[1m191/191\u001b[0m \u001b[32m━━━━━━━━━━━━━━━━━━━━\u001b[0m\u001b[37m\u001b[0m \u001b[1m2s\u001b[0m 12ms/step - accuracy: 0.8221 - loss: 0.4028 - val_accuracy: 0.8181 - val_loss: 0.4217\n",
      "Epoch 15/20\n",
      "\u001b[1m191/191\u001b[0m \u001b[32m━━━━━━━━━━━━━━━━━━━━\u001b[0m\u001b[37m\u001b[0m \u001b[1m2s\u001b[0m 12ms/step - accuracy: 0.8220 - loss: 0.4042 - val_accuracy: 0.8221 - val_loss: 0.4250\n",
      "Epoch 16/20\n",
      "\u001b[1m191/191\u001b[0m \u001b[32m━━━━━━━━━━━━━━━━━━━━\u001b[0m\u001b[37m\u001b[0m \u001b[1m3s\u001b[0m 14ms/step - accuracy: 0.8265 - loss: 0.3995 - val_accuracy: 0.8214 - val_loss: 0.4212\n",
      "Epoch 17/20\n",
      "\u001b[1m191/191\u001b[0m \u001b[32m━━━━━━━━━━━━━━━━━━━━\u001b[0m\u001b[37m\u001b[0m \u001b[1m3s\u001b[0m 14ms/step - accuracy: 0.8247 - loss: 0.4069 - val_accuracy: 0.8207 - val_loss: 0.4200\n",
      "Epoch 18/20\n",
      "\u001b[1m191/191\u001b[0m \u001b[32m━━━━━━━━━━━━━━━━━━━━\u001b[0m\u001b[37m\u001b[0m \u001b[1m2s\u001b[0m 12ms/step - accuracy: 0.8320 - loss: 0.3938 - val_accuracy: 0.8168 - val_loss: 0.4243\n",
      "Epoch 19/20\n",
      "\u001b[1m191/191\u001b[0m \u001b[32m━━━━━━━━━━━━━━━━━━━━\u001b[0m\u001b[37m\u001b[0m \u001b[1m2s\u001b[0m 12ms/step - accuracy: 0.8271 - loss: 0.4005 - val_accuracy: 0.8175 - val_loss: 0.4216\n",
      "Epoch 20/20\n",
      "\u001b[1m191/191\u001b[0m \u001b[32m━━━━━━━━━━━━━━━━━━━━\u001b[0m\u001b[37m\u001b[0m \u001b[1m2s\u001b[0m 12ms/step - accuracy: 0.8273 - loss: 0.3962 - val_accuracy: 0.8148 - val_loss: 0.4280\n",
      "\u001b[1m48/48\u001b[0m \u001b[32m━━━━━━━━━━━━━━━━━━━━\u001b[0m\u001b[37m\u001b[0m \u001b[1m0s\u001b[0m 5ms/step - accuracy: 0.8212 - loss: 0.4372\n",
      "Test Accuracy: 0.8207\n"
     ]
    }
   ],
   "source": [
    "histories, best_accuracy, best_model = train_multiple_models(models)"
   ]
  },
  {
   "cell_type": "code",
   "execution_count": 31,
   "id": "6582b8f0",
   "metadata": {
    "execution": {
     "iopub.execute_input": "2025-02-04T20:07:45.262092Z",
     "iopub.status.busy": "2025-02-04T20:07:45.261773Z",
     "iopub.status.idle": "2025-02-04T20:07:45.265801Z",
     "shell.execute_reply": "2025-02-04T20:07:45.264957Z"
    },
    "papermill": {
     "duration": 0.16195,
     "end_time": "2025-02-04T20:07:45.267172",
     "exception": false,
     "start_time": "2025-02-04T20:07:45.105222",
     "status": "completed"
    },
    "tags": []
   },
   "outputs": [
    {
     "name": "stdout",
     "output_type": "stream",
     "text": [
      "0.820748507976532\n"
     ]
    }
   ],
   "source": [
    "print(best_accuracy)"
   ]
  },
  {
   "cell_type": "code",
   "execution_count": 32,
   "id": "3ccbed7a",
   "metadata": {
    "execution": {
     "iopub.execute_input": "2025-02-04T20:07:45.626033Z",
     "iopub.status.busy": "2025-02-04T20:07:45.625670Z",
     "iopub.status.idle": "2025-02-04T20:07:46.143468Z",
     "shell.execute_reply": "2025-02-04T20:07:46.142545Z"
    },
    "papermill": {
     "duration": 0.675308,
     "end_time": "2025-02-04T20:07:46.144831",
     "exception": false,
     "start_time": "2025-02-04T20:07:45.469523",
     "status": "completed"
    },
    "tags": []
   },
   "outputs": [
    {
     "data": {
      "image/png": "[encoded data removed]",
      "text/plain": [
       "<Figure size 640x480 with 1 Axes>"
      ]
     },
     "metadata": {},
     "output_type": "display_data"
    },
    {
     "data": {
      "image/png": "[encoded data removed]",
      "text/plain": [
       "<Figure size 640x480 with 1 Axes>"
      ]
     },
     "metadata": {},
     "output_type": "display_data"
    },
    {
     "data": {
      "image/png": "[encoded data removed]",
      "text/plain": [
       "<Figure size 640x480 with 1 Axes>"
      ]
     },
     "metadata": {},
     "output_type": "display_data"
    }
   ],
   "source": [
    "plot_histories(histories)"
   ]
  },
  {
   "cell_type": "markdown",
   "id": "6e01a425",
   "metadata": {
    "papermill": {
     "duration": 0.155465,
     "end_time": "2025-02-04T20:07:46.461382",
     "exception": false,
     "start_time": "2025-02-04T20:07:46.305917",
     "status": "completed"
    },
    "tags": []
   },
   "source": [
    "It does not seem like adding GRU units contribute much to the performances of the model, the best score stays similar although it converges faster."
   ]
  },
  {
   "cell_type": "markdown",
   "id": "6441ec3f",
   "metadata": {
    "papermill": {
     "duration": 0.156149,
     "end_time": "2025-02-04T20:07:46.775304",
     "exception": false,
     "start_time": "2025-02-04T20:07:46.619155",
     "status": "completed"
    },
    "tags": []
   },
   "source": [
    "# Submission"
   ]
  },
  {
   "cell_type": "code",
   "execution_count": 33,
   "id": "9c22e443",
   "metadata": {
    "execution": {
     "iopub.execute_input": "2025-02-04T20:07:47.090899Z",
     "iopub.status.busy": "2025-02-04T20:07:47.090472Z",
     "iopub.status.idle": "2025-02-04T20:07:47.112796Z",
     "shell.execute_reply": "2025-02-04T20:07:47.111919Z"
    },
    "papermill": {
     "duration": 0.181924,
     "end_time": "2025-02-04T20:07:47.114160",
     "exception": false,
     "start_time": "2025-02-04T20:07:46.932236",
     "status": "completed"
    },
    "tags": []
   },
   "outputs": [],
   "source": [
    "test_df = pd.read_csv(\"/kaggle/input/nlp-getting-started/test.csv\")"
   ]
  },
  {
   "cell_type": "code",
   "execution_count": 34,
   "id": "6608b6d1",
   "metadata": {
    "execution": {
     "iopub.execute_input": "2025-02-04T20:07:47.426509Z",
     "iopub.status.busy": "2025-02-04T20:07:47.426187Z",
     "iopub.status.idle": "2025-02-04T20:07:47.483715Z",
     "shell.execute_reply": "2025-02-04T20:07:47.482887Z"
    },
    "papermill": {
     "duration": 0.214547,
     "end_time": "2025-02-04T20:07:47.485102",
     "exception": false,
     "start_time": "2025-02-04T20:07:47.270555",
     "status": "completed"
    },
    "tags": []
   },
   "outputs": [],
   "source": [
    "\n",
    "X = tokenizer.texts_to_sequences(test_df['text'])\n",
    "X = pad_sequences(X)\n",
    "\n"
   ]
  },
  {
   "cell_type": "code",
   "execution_count": 35,
   "id": "1f597f53",
   "metadata": {
    "execution": {
     "iopub.execute_input": "2025-02-04T20:07:47.850351Z",
     "iopub.status.busy": "2025-02-04T20:07:47.850046Z",
     "iopub.status.idle": "2025-02-04T20:07:47.866114Z",
     "shell.execute_reply": "2025-02-04T20:07:47.865423Z"
    },
    "papermill": {
     "duration": 0.178619,
     "end_time": "2025-02-04T20:07:47.867333",
     "exception": false,
     "start_time": "2025-02-04T20:07:47.688714",
     "status": "completed"
    },
    "tags": []
   },
   "outputs": [
    {
     "data": {
      "text/html": [
       "<pre style=\"white-space:pre;overflow-x:auto;line-height:normal;font-family:Menlo,'DejaVu Sans Mono',consolas,'Courier New',monospace\"><span style=\"font-weight: bold\">Model: \"sequential_7\"</span>\n",
       "</pre>\n"
      ],
      "text/plain": [
       "\u001b[1mModel: \"sequential_7\"\u001b[0m\n"
      ]
     },
     "metadata": {},
     "output_type": "display_data"
    },
    {
     "data": {
      "text/html": [
       "<pre style=\"white-space:pre;overflow-x:auto;line-height:normal;font-family:Menlo,'DejaVu Sans Mono',consolas,'Courier New',monospace\">┏━━━━━━━━━━━━━━━━━━━━━━━━━━━━━━━━━━━━━━┳━━━━━━━━━━━━━━━━━━━━━━━━━━━━━┳━━━━━━━━━━━━━━━━━┓\n",
       "┃<span style=\"font-weight: bold\"> Layer (type)                         </span>┃<span style=\"font-weight: bold\"> Output Shape                </span>┃<span style=\"font-weight: bold\">         Param # </span>┃\n",
       "┡━━━━━━━━━━━━━━━━━━━━━━━━━━━━━━━━━━━━━━╇━━━━━━━━━━━━━━━━━━━━━━━━━━━━━╇━━━━━━━━━━━━━━━━━┩\n",
       "│ embedding_7 (<span style=\"color: #0087ff; text-decoration-color: #0087ff\">Embedding</span>)              │ (<span style=\"color: #00d7ff; text-decoration-color: #00d7ff\">None</span>, <span style=\"color: #00af00; text-decoration-color: #00af00\">31</span>, <span style=\"color: #00af00; text-decoration-color: #00af00\">300</span>)             │       <span style=\"color: #00af00; text-decoration-color: #00af00\">6,810,300</span> │\n",
       "├──────────────────────────────────────┼─────────────────────────────┼─────────────────┤\n",
       "│ gru_7 (<span style=\"color: #0087ff; text-decoration-color: #0087ff\">GRU</span>)                          │ (<span style=\"color: #00d7ff; text-decoration-color: #00d7ff\">None</span>, <span style=\"color: #00af00; text-decoration-color: #00af00\">1024</span>)                │       <span style=\"color: #00af00; text-decoration-color: #00af00\">4,073,472</span> │\n",
       "├──────────────────────────────────────┼─────────────────────────────┼─────────────────┤\n",
       "│ dropout_7 (<span style=\"color: #0087ff; text-decoration-color: #0087ff\">Dropout</span>)                  │ (<span style=\"color: #00d7ff; text-decoration-color: #00d7ff\">None</span>, <span style=\"color: #00af00; text-decoration-color: #00af00\">1024</span>)                │               <span style=\"color: #00af00; text-decoration-color: #00af00\">0</span> │\n",
       "├──────────────────────────────────────┼─────────────────────────────┼─────────────────┤\n",
       "│ dense_7 (<span style=\"color: #0087ff; text-decoration-color: #0087ff\">Dense</span>)                      │ (<span style=\"color: #00d7ff; text-decoration-color: #00d7ff\">None</span>, <span style=\"color: #00af00; text-decoration-color: #00af00\">1</span>)                   │           <span style=\"color: #00af00; text-decoration-color: #00af00\">1,025</span> │\n",
       "└──────────────────────────────────────┴─────────────────────────────┴─────────────────┘\n",
       "</pre>\n"
      ],
      "text/plain": [
       "┏━━━━━━━━━━━━━━━━━━━━━━━━━━━━━━━━━━━━━━┳━━━━━━━━━━━━━━━━━━━━━━━━━━━━━┳━━━━━━━━━━━━━━━━━┓\n",
       "┃\u001b[1m \u001b[0m\u001b[1mLayer (type)                        \u001b[0m\u001b[1m \u001b[0m┃\u001b[1m \u001b[0m\u001b[1mOutput Shape               \u001b[0m\u001b[1m \u001b[0m┃\u001b[1m \u001b[0m\u001b[1m        Param #\u001b[0m\u001b[1m \u001b[0m┃\n",
       "┡━━━━━━━━━━━━━━━━━━━━━━━━━━━━━━━━━━━━━━╇━━━━━━━━━━━━━━━━━━━━━━━━━━━━━╇━━━━━━━━━━━━━━━━━┩\n",
       "│ embedding_7 (\u001b[38;5;33mEmbedding\u001b[0m)              │ (\u001b[38;5;45mNone\u001b[0m, \u001b[38;5;34m31\u001b[0m, \u001b[38;5;34m300\u001b[0m)             │       \u001b[38;5;34m6,810,300\u001b[0m │\n",
       "├──────────────────────────────────────┼─────────────────────────────┼─────────────────┤\n",
       "│ gru_7 (\u001b[38;5;33mGRU\u001b[0m)                          │ (\u001b[38;5;45mNone\u001b[0m, \u001b[38;5;34m1024\u001b[0m)                │       \u001b[38;5;34m4,073,472\u001b[0m │\n",
       "├──────────────────────────────────────┼─────────────────────────────┼─────────────────┤\n",
       "│ dropout_7 (\u001b[38;5;33mDropout\u001b[0m)                  │ (\u001b[38;5;45mNone\u001b[0m, \u001b[38;5;34m1024\u001b[0m)                │               \u001b[38;5;34m0\u001b[0m │\n",
       "├──────────────────────────────────────┼─────────────────────────────┼─────────────────┤\n",
       "│ dense_7 (\u001b[38;5;33mDense\u001b[0m)                      │ (\u001b[38;5;45mNone\u001b[0m, \u001b[38;5;34m1\u001b[0m)                   │           \u001b[38;5;34m1,025\u001b[0m │\n",
       "└──────────────────────────────────────┴─────────────────────────────┴─────────────────┘\n"
      ]
     },
     "metadata": {},
     "output_type": "display_data"
    },
    {
     "data": {
      "text/html": [
       "<pre style=\"white-space:pre;overflow-x:auto;line-height:normal;font-family:Menlo,'DejaVu Sans Mono',consolas,'Courier New',monospace\"><span style=\"font-weight: bold\"> Total params: </span><span style=\"color: #00af00; text-decoration-color: #00af00\">19,033,793</span> (72.61 MB)\n",
       "</pre>\n"
      ],
      "text/plain": [
       "\u001b[1m Total params: \u001b[0m\u001b[38;5;34m19,033,793\u001b[0m (72.61 MB)\n"
      ]
     },
     "metadata": {},
     "output_type": "display_data"
    },
    {
     "data": {
      "text/html": [
       "<pre style=\"white-space:pre;overflow-x:auto;line-height:normal;font-family:Menlo,'DejaVu Sans Mono',consolas,'Courier New',monospace\"><span style=\"font-weight: bold\"> Trainable params: </span><span style=\"color: #00af00; text-decoration-color: #00af00\">4,074,497</span> (15.54 MB)\n",
       "</pre>\n"
      ],
      "text/plain": [
       "\u001b[1m Trainable params: \u001b[0m\u001b[38;5;34m4,074,497\u001b[0m (15.54 MB)\n"
      ]
     },
     "metadata": {},
     "output_type": "display_data"
    },
    {
     "data": {
      "text/html": [
       "<pre style=\"white-space:pre;overflow-x:auto;line-height:normal;font-family:Menlo,'DejaVu Sans Mono',consolas,'Courier New',monospace\"><span style=\"font-weight: bold\"> Non-trainable params: </span><span style=\"color: #00af00; text-decoration-color: #00af00\">6,810,300</span> (25.98 MB)\n",
       "</pre>\n"
      ],
      "text/plain": [
       "\u001b[1m Non-trainable params: \u001b[0m\u001b[38;5;34m6,810,300\u001b[0m (25.98 MB)\n"
      ]
     },
     "metadata": {},
     "output_type": "display_data"
    },
    {
     "data": {
      "text/html": [
       "<pre style=\"white-space:pre;overflow-x:auto;line-height:normal;font-family:Menlo,'DejaVu Sans Mono',consolas,'Courier New',monospace\"><span style=\"font-weight: bold\"> Optimizer params: </span><span style=\"color: #00af00; text-decoration-color: #00af00\">8,148,996</span> (31.09 MB)\n",
       "</pre>\n"
      ],
      "text/plain": [
       "\u001b[1m Optimizer params: \u001b[0m\u001b[38;5;34m8,148,996\u001b[0m (31.09 MB)\n"
      ]
     },
     "metadata": {},
     "output_type": "display_data"
    }
   ],
   "source": [
    "best_model.summary()"
   ]
  },
  {
   "cell_type": "code",
   "execution_count": 36,
   "id": "be9eb3b4",
   "metadata": {
    "execution": {
     "iopub.execute_input": "2025-02-04T20:07:48.182701Z",
     "iopub.status.busy": "2025-02-04T20:07:48.182413Z",
     "iopub.status.idle": "2025-02-04T20:07:48.796600Z",
     "shell.execute_reply": "2025-02-04T20:07:48.795739Z"
    },
    "papermill": {
     "duration": 0.773797,
     "end_time": "2025-02-04T20:07:48.798052",
     "exception": false,
     "start_time": "2025-02-04T20:07:48.024255",
     "status": "completed"
    },
    "tags": []
   },
   "outputs": [
    {
     "name": "stdout",
     "output_type": "stream",
     "text": [
      "\u001b[1m102/102\u001b[0m \u001b[32m━━━━━━━━━━━━━━━━━━━━\u001b[0m\u001b[37m\u001b[0m \u001b[1m1s\u001b[0m 4ms/step\n"
     ]
    }
   ],
   "source": [
    "pred_y = best_model.predict(X)"
   ]
  },
  {
   "cell_type": "code",
   "execution_count": 37,
   "id": "a2313dcd",
   "metadata": {
    "execution": {
     "iopub.execute_input": "2025-02-04T20:07:49.117842Z",
     "iopub.status.busy": "2025-02-04T20:07:49.117463Z",
     "iopub.status.idle": "2025-02-04T20:07:49.124710Z",
     "shell.execute_reply": "2025-02-04T20:07:49.123912Z"
    },
    "papermill": {
     "duration": 0.168062,
     "end_time": "2025-02-04T20:07:49.125990",
     "exception": false,
     "start_time": "2025-02-04T20:07:48.957928",
     "status": "completed"
    },
    "tags": []
   },
   "outputs": [],
   "source": [
    "test_df['target'] = 1*(pred_y>0.5)\n",
    "test_df = test_df.set_index('id')\n",
    "test_df = test_df[['target']]"
   ]
  },
  {
   "cell_type": "code",
   "execution_count": 38,
   "id": "add4df11",
   "metadata": {
    "execution": {
     "iopub.execute_input": "2025-02-04T20:07:49.439430Z",
     "iopub.status.busy": "2025-02-04T20:07:49.439110Z",
     "iopub.status.idle": "2025-02-04T20:07:49.447155Z",
     "shell.execute_reply": "2025-02-04T20:07:49.446438Z"
    },
    "papermill": {
     "duration": 0.166139,
     "end_time": "2025-02-04T20:07:49.448428",
     "exception": false,
     "start_time": "2025-02-04T20:07:49.282289",
     "status": "completed"
    },
    "tags": []
   },
   "outputs": [
    {
     "data": {
      "text/html": [
       "<div>\n",
       "<style scoped>\n",
       "    .dataframe tbody tr th:only-of-type {\n",
       "        vertical-align: middle;\n",
       "    }\n",
       "\n",
       "    .dataframe tbody tr th {\n",
       "        vertical-align: top;\n",
       "    }\n",
       "\n",
       "    .dataframe thead th {\n",
       "        text-align: right;\n",
       "    }\n",
       "</style>\n",
       "<table border=\"1\" class=\"dataframe\">\n",
       "  <thead>\n",
       "    <tr style=\"text-align: right;\">\n",
       "      <th></th>\n",
       "      <th>target</th>\n",
       "    </tr>\n",
       "    <tr>\n",
       "      <th>id</th>\n",
       "      <th></th>\n",
       "    </tr>\n",
       "  </thead>\n",
       "  <tbody>\n",
       "    <tr>\n",
       "      <th>0</th>\n",
       "      <td>0</td>\n",
       "    </tr>\n",
       "    <tr>\n",
       "      <th>2</th>\n",
       "      <td>1</td>\n",
       "    </tr>\n",
       "    <tr>\n",
       "      <th>3</th>\n",
       "      <td>1</td>\n",
       "    </tr>\n",
       "    <tr>\n",
       "      <th>9</th>\n",
       "      <td>1</td>\n",
       "    </tr>\n",
       "    <tr>\n",
       "      <th>11</th>\n",
       "      <td>1</td>\n",
       "    </tr>\n",
       "    <tr>\n",
       "      <th>...</th>\n",
       "      <td>...</td>\n",
       "    </tr>\n",
       "    <tr>\n",
       "      <th>10861</th>\n",
       "      <td>1</td>\n",
       "    </tr>\n",
       "    <tr>\n",
       "      <th>10865</th>\n",
       "      <td>1</td>\n",
       "    </tr>\n",
       "    <tr>\n",
       "      <th>10868</th>\n",
       "      <td>1</td>\n",
       "    </tr>\n",
       "    <tr>\n",
       "      <th>10874</th>\n",
       "      <td>0</td>\n",
       "    </tr>\n",
       "    <tr>\n",
       "      <th>10875</th>\n",
       "      <td>1</td>\n",
       "    </tr>\n",
       "  </tbody>\n",
       "</table>\n",
       "<p>3263 rows × 1 columns</p>\n",
       "</div>"
      ],
      "text/plain": [
       "       target\n",
       "id           \n",
       "0           0\n",
       "2           1\n",
       "3           1\n",
       "9           1\n",
       "11          1\n",
       "...       ...\n",
       "10861       1\n",
       "10865       1\n",
       "10868       1\n",
       "10874       0\n",
       "10875       1\n",
       "\n",
       "[3263 rows x 1 columns]"
      ]
     },
     "execution_count": 38,
     "metadata": {},
     "output_type": "execute_result"
    }
   ],
   "source": [
    "test_df"
   ]
  },
  {
   "cell_type": "code",
   "execution_count": 39,
   "id": "57d903cc",
   "metadata": {
    "execution": {
     "iopub.execute_input": "2025-02-04T20:07:49.810354Z",
     "iopub.status.busy": "2025-02-04T20:07:49.810033Z",
     "iopub.status.idle": "2025-02-04T20:07:49.819868Z",
     "shell.execute_reply": "2025-02-04T20:07:49.818994Z"
    },
    "papermill": {
     "duration": 0.172728,
     "end_time": "2025-02-04T20:07:49.821125",
     "exception": false,
     "start_time": "2025-02-04T20:07:49.648397",
     "status": "completed"
    },
    "tags": []
   },
   "outputs": [],
   "source": [
    "test_df.to_csv(\"submission.csv\")"
   ]
  },
  {
   "cell_type": "markdown",
   "id": "b73b8fe3",
   "metadata": {
    "papermill": {
     "duration": 0.156951,
     "end_time": "2025-02-04T20:07:50.136361",
     "exception": false,
     "start_time": "2025-02-04T20:07:49.979410",
     "status": "completed"
    },
    "tags": []
   },
   "source": [
    "# Conclusions"
   ]
  },
  {
   "cell_type": "markdown",
   "id": "85d7ce6f",
   "metadata": {
    "papermill": {
     "duration": 0.155982,
     "end_time": "2025-02-04T20:07:50.451952",
     "exception": false,
     "start_time": "2025-02-04T20:07:50.295970",
     "status": "completed"
    },
    "tags": []
   },
   "source": [
    "In this project, I experimented with different GRU-based architectures and adjusted various hyperparameters to classify tweets as related to disasters or not.\n",
    "\n",
    "I explored several configurations, varying the number of GRU units and dropout rates.\n",
    "\n",
    "Initially, the performance was decent but not optimal. However, the most significant improvement came when I incorporated pre-trained Word2Vec embeddings.\n",
    "\n",
    "By using these embeddings, which capture rich semantic relationships between words, the model was able to better understand the context of each tweet.\n",
    "\n",
    "As a result, the model achieved a test accuracy of 82%, outperforming the previous attempts without pre-trained embeddings.\n",
    "\n",
    "This demonstrates the effectiveness of Word2Vec in enhancing the performance of GRU-based models for text classification tasks, particularly when working with limited labeled data."
   ]
  }
 ],
 "metadata": {
  "kaggle": {
   "accelerator": "gpu",
   "dataSources": [
    {
     "databundleVersionId": 869809,
     "sourceId": 17777,
     "sourceType": "competition"
    },
    {
     "datasetId": 1595713,
     "sourceId": 2624724,
     "sourceType": "datasetVersion"
    }
   ],
   "dockerImageVersionId": 30839,
   "isGpuEnabled": true,
   "isInternetEnabled": true,
   "language": "python",
   "sourceType": "notebook"
  },
  "kernelspec": {
   "display_name": "Python 3",
   "language": "python",
   "name": "python3"
  },
  "language_info": {
   "codemirror_mode": {
    "name": "ipython",
    "version": 3
   },
   "file_extension": ".py",
   "mimetype": "text/x-python",
   "name": "python",
   "nbconvert_exporter": "python",
   "pygments_lexer": "ipython3",
   "version": "3.10.12"
  },
  "papermill": {
   "default_parameters": {},
   "duration": 299.883071,
   "end_time": "2025-02-04T20:07:53.867259",
   "environment_variables": {},
   "exception": null,
   "input_path": "__notebook__.ipynb",
   "output_path": "__notebook__.ipynb",
   "parameters": {},
   "start_time": "2025-02-04T20:02:53.984188",
   "version": "2.6.0"
  }
 },
 "nbformat": 4,
 "nbformat_minor": 5
}
